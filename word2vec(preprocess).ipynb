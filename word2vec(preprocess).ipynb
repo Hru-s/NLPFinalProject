{
 "cells": [
  {
   "cell_type": "code",
   "execution_count": 1,
   "metadata": {},
   "outputs": [
    {
     "name": "stdout",
     "output_type": "stream",
     "text": [
      "CUDA available: True\n",
      "GPU: NVIDIA GeForce GTX 1650 Ti\n"
     ]
    }
   ],
   "source": [
    "import torch\n",
    "import json\n",
    "\n",
    "print(\"CUDA available:\", torch.cuda.is_available())\n",
    "print(\"GPU:\", torch.cuda.get_device_name(0) if torch.cuda.is_available() else \"No GPU\")\n"
   ]
  },
  {
   "cell_type": "code",
   "execution_count": null,
   "metadata": {
    "id": "iP0xnlkiAZ9y"
   },
   "outputs": [],
   "source": [
    "import os\n",
    "import re\n",
    "import json\n",
    "import spacy\n",
    "import nltk\n",
    "from nltk.corpus import stopwords\n",
    "from string import punctuation\n",
    "\n",
    "# Load spaCy model\n",
    "nlp = spacy.load(\"en_core_web_sm\")\n",
    "\n",
    "# Download NLTK stopwords\n",
    "nltk.download(\"stopwords\")\n",
    "stop_words = set(stopwords.words(\"english\"))\n",
    "\n",
    "# Mapping sentiment labels to numerical values\n",
    "SENTIMENT_MAP = {\n",
    "    \"@positive\": 1,\n",
    "    \"@neutral\": 0,\n",
    "    \"@negative\": -1\n",
    "}\n",
    "\n",
    "# Define NLP-based preprocessing function\n",
    "def preprocess_text(text):\n",
    "    # Extract sentiment label\n",
    "    sentiment = 0  # Default to neutral if no label is found\n",
    "    for label, value in SENTIMENT_MAP.items():\n",
    "        if label in text:\n",
    "            sentiment = value\n",
    "            text = text.replace(label, '')  # Remove sentiment tag from text\n",
    "            break  # Stop after finding the first sentiment label\n",
    "\n",
    "    # Process text with spaCy\n",
    "    doc = nlp(text.lower())  # Convert to lowercase\n",
    "\n",
    "    # Tokenization, lemmatization, removing stopwords and punctuation\n",
    "    tokens = [\n",
    "        token.lemma_ for token in doc\n",
    "        if token.text not in stop_words and token.text not in punctuation and not token.is_space and not token.is_digit\n",
    "    ]\n",
    "\n",
    "    return {\"sentence\": tokens, \"sentiment\": sentiment}\n",
    "\n",
    "# List of input files\n",
    "file_paths = [\n",
    "    \"Sentences_50Agree.txt\",\n",
    "    \"Sentences_66Agree.txt\",\n",
    "    \"Sentences_75Agree.txt\",\n",
    "    \"Sentences_AllAgree.txt\"\n",
    "]\n",
    "\n",
    "# Process all files and concatenate results\n",
    "all_processed_data = []\n",
    "for file_path in file_paths:\n",
    "    with open(file_path, \"r\", encoding=\"ISO-8859-1\") as file:\n",
    "        sentences = file.readlines()\n",
    "\n",
    "    # Apply NLP preprocessing\n",
    "    processed_data = [preprocess_text(sentence.strip()) for sentence in sentences]\n",
    "\n",
    "    # Append to main list\n",
    "    all_processed_data.extend(processed_data)\n",
    "\n",
    "# Save all concatenated data as a single JSON file\n",
    "output_json = \"bank.json\"\n",
    "with open(output_json, \"w\", encoding=\"utf-8\") as json_file:\n",
    "    json.dump(all_processed_data, json_file, indent=4, ensure_ascii=False)\n",
    "\n",
    "print(f\"Concatenated JSON file saved: {output_json}\")\n"
   ]
  },
  {
   "cell_type": "markdown",
   "metadata": {
    "id": "SQ1R6Mf9DvP2"
   },
   "source": [
    "import json\n",
    "from collections import Counter\n",
    "\n",
    "# Load processed sentences from JSON file\n",
    "with open(\"processed_sentences.json\", \"r\", encoding=\"utf-8\") as file:\n",
    "    data = json.load(file)\n",
    "\n",
    "# Flatten the list of tokens from all sentences\n",
    "all_tokens = [token for entry in data for token in entry[\"sentence\"]]\n",
    "\n",
    "# Count token frequencies\n",
    "token_counts = Counter(all_tokens)\n",
    "\n",
    "# Get N least common tokens\n",
    "N = 20  # Change this to the number of least common tokens you need\n",
    "least_common_tokens = token_counts.most_common()[:-N-1:-1]  # Get N least common\n",
    "\n",
    "# Print results\n",
    "print(f\"The {N} least common tokens:\")\n",
    "for token, count in least_common_tokens:\n",
    "    print(f\"{token}: {count}\")\n"
   ]
  },
  {
   "cell_type": "code",
   "execution_count": 2,
   "metadata": {
    "colab": {
     "base_uri": "https://localhost:8080/"
    },
    "id": "N4QlJNgoHRdC",
    "outputId": "1e8bae47-db0b-4753-98c4-aec8d30f41a3"
   },
   "outputs": [
    {
     "ename": "ModuleNotFoundError",
     "evalue": "No module named 'spacy'",
     "output_type": "error",
     "traceback": [
      "\u001b[31m---------------------------------------------------------------------------\u001b[39m",
      "\u001b[31mModuleNotFoundError\u001b[39m                       Traceback (most recent call last)",
      "\u001b[36mCell\u001b[39m\u001b[36m \u001b[39m\u001b[32mIn[2]\u001b[39m\u001b[32m, line 4\u001b[39m\n\u001b[32m      2\u001b[39m \u001b[38;5;28;01mimport\u001b[39;00m\u001b[38;5;250m \u001b[39m\u001b[34;01mre\u001b[39;00m\n\u001b[32m      3\u001b[39m \u001b[38;5;28;01mimport\u001b[39;00m\u001b[38;5;250m \u001b[39m\u001b[34;01mjson\u001b[39;00m\n\u001b[32m----> \u001b[39m\u001b[32m4\u001b[39m \u001b[38;5;28;01mimport\u001b[39;00m\u001b[38;5;250m \u001b[39m\u001b[34;01mspacy\u001b[39;00m\n\u001b[32m      5\u001b[39m \u001b[38;5;28;01mimport\u001b[39;00m\u001b[38;5;250m \u001b[39m\u001b[34;01mnltk\u001b[39;00m\n\u001b[32m      6\u001b[39m \u001b[38;5;28;01mfrom\u001b[39;00m\u001b[38;5;250m \u001b[39m\u001b[34;01mnltk\u001b[39;00m\u001b[34;01m.\u001b[39;00m\u001b[34;01mcorpus\u001b[39;00m\u001b[38;5;250m \u001b[39m\u001b[38;5;28;01mimport\u001b[39;00m stopwords\n",
      "\u001b[31mModuleNotFoundError\u001b[39m: No module named 'spacy'"
     ]
    }
   ],
   "source": [
    "import pandas as pd\n",
    "import re\n",
    "import json\n",
    "import spacy\n",
    "import nltk\n",
    "from nltk.corpus import stopwords\n",
    "from string import punctuation\n",
    "\n",
    "# Load spaCy model\n",
    "nlp = spacy.load(\"en_core_web_sm\")\n",
    "\n",
    "# Download NLTK stopwords\n",
    "nltk.download(\"stopwords\")\n",
    "stop_words = set(stopwords.words(\"english\"))\n",
    "\n",
    "# Label mapping\n",
    "LABEL_MAP = {\n",
    "    \"LABEL_0\": -1,  # Bearish → Negative\n",
    "    \"LABEL_1\": 1,   # Bullish → Positive\n",
    "    \"LABEL_2\": 0    # Neutral\n",
    "}\n",
    "\n",
    "# Clean text: remove stock tickers and URLs\n",
    "def clean_text(text):\n",
    "    text = re.sub(r'\\$\\w+', '', text)          # Remove $TICKERS\n",
    "    text = re.sub(r'https?://\\S+', '', text)   # Remove URLs\n",
    "    return text.strip()\n",
    "\n",
    "# Preprocess each row\n",
    "def preprocess_text(text, label):\n",
    "    text = clean_text(text)\n",
    "    doc = nlp(text.lower())\n",
    "    tokens = [\n",
    "        token.lemma_ for token in doc\n",
    "        if token.text not in stop_words and token.text not in punctuation and not token.is_space and not token.is_digit\n",
    "    ]\n",
    "    return {\"sentence\": tokens, \"sentiment\": label}\n",
    "\n",
    "# File paths to process\n",
    "file_paths = [\n",
    "    \"sent_train.csv\",\n",
    "    \"sent_valid.csv\",\n",
    "    # Add more files here if needed\n",
    "]\n",
    "\n",
    "# Process and merge all files\n",
    "all_processed_data = []\n",
    "\n",
    "for path in file_paths:\n",
    "    df = pd.read_csv(path)\n",
    "    processed = [\n",
    "        preprocess_text(row[\"text\"], LABEL_MAP.get(row[\"label\"], 0))  # default to Neutral if label not found\n",
    "        for _, row in df.iterrows()\n",
    "    ]\n",
    "    all_processed_data.extend(processed)\n",
    "\n",
    "# Save merged processed data\n",
    "with open(\"tweet.json\", \"w\", encoding=\"utf-8\") as f:\n",
    "    json.dump(all_processed_data, f, indent=4, ensure_ascii=False)\n",
    "\n",
    "print(\" Merged processed data saved to 'merged_processed_data.json'\")\n"
   ]
  },
  {
   "cell_type": "code",
   "execution_count": null,
   "metadata": {
    "colab": {
     "base_uri": "https://localhost:8080/"
    },
    "collapsed": true,
    "id": "Xo2biowjjB4-",
    "jupyter": {
     "outputs_hidden": true
    },
    "outputId": "567fb79f-610a-4edd-aa1c-3aded26ce0f0"
   },
   "outputs": [
    {
     "name": "stdout",
     "output_type": "stream",
     "text": [
      "Collecting datasets\n",
      "  Downloading datasets-3.5.0-py3-none-any.whl.metadata (19 kB)\n",
      "Requirement already satisfied: filelock in /usr/local/lib/python3.11/dist-packages (from datasets) (3.18.0)\n",
      "Requirement already satisfied: numpy>=1.17 in /usr/local/lib/python3.11/dist-packages (from datasets) (2.0.2)\n",
      "Requirement already satisfied: pyarrow>=15.0.0 in /usr/local/lib/python3.11/dist-packages (from datasets) (18.1.0)\n",
      "Collecting dill<0.3.9,>=0.3.0 (from datasets)\n",
      "  Downloading dill-0.3.8-py3-none-any.whl.metadata (10 kB)\n",
      "Requirement already satisfied: pandas in /usr/local/lib/python3.11/dist-packages (from datasets) (2.2.2)\n",
      "Requirement already satisfied: requests>=2.32.2 in /usr/local/lib/python3.11/dist-packages (from datasets) (2.32.3)\n",
      "Requirement already satisfied: tqdm>=4.66.3 in /usr/local/lib/python3.11/dist-packages (from datasets) (4.67.1)\n",
      "Collecting xxhash (from datasets)\n",
      "  Downloading xxhash-3.5.0-cp311-cp311-manylinux_2_17_x86_64.manylinux2014_x86_64.whl.metadata (12 kB)\n",
      "Collecting multiprocess<0.70.17 (from datasets)\n",
      "  Downloading multiprocess-0.70.16-py311-none-any.whl.metadata (7.2 kB)\n",
      "Collecting fsspec<=2024.12.0,>=2023.1.0 (from fsspec[http]<=2024.12.0,>=2023.1.0->datasets)\n",
      "  Downloading fsspec-2024.12.0-py3-none-any.whl.metadata (11 kB)\n",
      "Requirement already satisfied: aiohttp in /usr/local/lib/python3.11/dist-packages (from datasets) (3.11.15)\n",
      "Requirement already satisfied: huggingface-hub>=0.24.0 in /usr/local/lib/python3.11/dist-packages (from datasets) (0.30.2)\n",
      "Requirement already satisfied: packaging in /usr/local/lib/python3.11/dist-packages (from datasets) (24.2)\n",
      "Requirement already satisfied: pyyaml>=5.1 in /usr/local/lib/python3.11/dist-packages (from datasets) (6.0.2)\n",
      "Requirement already satisfied: aiohappyeyeballs>=2.3.0 in /usr/local/lib/python3.11/dist-packages (from aiohttp->datasets) (2.6.1)\n",
      "Requirement already satisfied: aiosignal>=1.1.2 in /usr/local/lib/python3.11/dist-packages (from aiohttp->datasets) (1.3.2)\n",
      "Requirement already satisfied: attrs>=17.3.0 in /usr/local/lib/python3.11/dist-packages (from aiohttp->datasets) (25.3.0)\n",
      "Requirement already satisfied: frozenlist>=1.1.1 in /usr/local/lib/python3.11/dist-packages (from aiohttp->datasets) (1.5.0)\n",
      "Requirement already satisfied: multidict<7.0,>=4.5 in /usr/local/lib/python3.11/dist-packages (from aiohttp->datasets) (6.4.3)\n",
      "Requirement already satisfied: propcache>=0.2.0 in /usr/local/lib/python3.11/dist-packages (from aiohttp->datasets) (0.3.1)\n",
      "Requirement already satisfied: yarl<2.0,>=1.17.0 in /usr/local/lib/python3.11/dist-packages (from aiohttp->datasets) (1.19.0)\n",
      "Requirement already satisfied: typing-extensions>=3.7.4.3 in /usr/local/lib/python3.11/dist-packages (from huggingface-hub>=0.24.0->datasets) (4.13.2)\n",
      "Requirement already satisfied: charset-normalizer<4,>=2 in /usr/local/lib/python3.11/dist-packages (from requests>=2.32.2->datasets) (3.4.1)\n",
      "Requirement already satisfied: idna<4,>=2.5 in /usr/local/lib/python3.11/dist-packages (from requests>=2.32.2->datasets) (3.10)\n",
      "Requirement already satisfied: urllib3<3,>=1.21.1 in /usr/local/lib/python3.11/dist-packages (from requests>=2.32.2->datasets) (2.3.0)\n",
      "Requirement already satisfied: certifi>=2017.4.17 in /usr/local/lib/python3.11/dist-packages (from requests>=2.32.2->datasets) (2025.1.31)\n",
      "Requirement already satisfied: python-dateutil>=2.8.2 in /usr/local/lib/python3.11/dist-packages (from pandas->datasets) (2.8.2)\n",
      "Requirement already satisfied: pytz>=2020.1 in /usr/local/lib/python3.11/dist-packages (from pandas->datasets) (2025.2)\n",
      "Requirement already satisfied: tzdata>=2022.7 in /usr/local/lib/python3.11/dist-packages (from pandas->datasets) (2025.2)\n",
      "Requirement already satisfied: six>=1.5 in /usr/local/lib/python3.11/dist-packages (from python-dateutil>=2.8.2->pandas->datasets) (1.17.0)\n",
      "Downloading datasets-3.5.0-py3-none-any.whl (491 kB)\n",
      "\u001b[2K   \u001b[90m━━━━━━━━━━━━━━━━━━━━━━━━━━━━━━━━━━━━━━━━\u001b[0m \u001b[32m491.2/491.2 kB\u001b[0m \u001b[31m13.7 MB/s\u001b[0m eta \u001b[36m0:00:00\u001b[0m\n",
      "\u001b[?25hDownloading dill-0.3.8-py3-none-any.whl (116 kB)\n",
      "\u001b[2K   \u001b[90m━━━━━━━━━━━━━━━━━━━━━━━━━━━━━━━━━━━━━━━━\u001b[0m \u001b[32m116.3/116.3 kB\u001b[0m \u001b[31m11.9 MB/s\u001b[0m eta \u001b[36m0:00:00\u001b[0m\n",
      "\u001b[?25hDownloading fsspec-2024.12.0-py3-none-any.whl (183 kB)\n",
      "\u001b[2K   \u001b[90m━━━━━━━━━━━━━━━━━━━━━━━━━━━━━━━━━━━━━━━━\u001b[0m \u001b[32m183.9/183.9 kB\u001b[0m \u001b[31m17.1 MB/s\u001b[0m eta \u001b[36m0:00:00\u001b[0m\n",
      "\u001b[?25hDownloading multiprocess-0.70.16-py311-none-any.whl (143 kB)\n",
      "\u001b[2K   \u001b[90m━━━━━━━━━━━━━━━━━━━━━━━━━━━━━━━━━━━━━━━━\u001b[0m \u001b[32m143.5/143.5 kB\u001b[0m \u001b[31m14.4 MB/s\u001b[0m eta \u001b[36m0:00:00\u001b[0m\n",
      "\u001b[?25hDownloading xxhash-3.5.0-cp311-cp311-manylinux_2_17_x86_64.manylinux2014_x86_64.whl (194 kB)\n",
      "\u001b[2K   \u001b[90m━━━━━━━━━━━━━━━━━━━━━━━━━━━━━━━━━━━━━━━━\u001b[0m \u001b[32m194.8/194.8 kB\u001b[0m \u001b[31m19.0 MB/s\u001b[0m eta \u001b[36m0:00:00\u001b[0m\n",
      "\u001b[?25hInstalling collected packages: xxhash, fsspec, dill, multiprocess, datasets\n",
      "  Attempting uninstall: fsspec\n",
      "    Found existing installation: fsspec 2025.3.2\n",
      "    Uninstalling fsspec-2025.3.2:\n",
      "      Successfully uninstalled fsspec-2025.3.2\n",
      "\u001b[31mERROR: pip's dependency resolver does not currently take into account all the packages that are installed. This behaviour is the source of the following dependency conflicts.\n",
      "gcsfs 2025.3.2 requires fsspec==2025.3.2, but you have fsspec 2024.12.0 which is incompatible.\n",
      "torch 2.6.0+cu124 requires nvidia-cublas-cu12==12.4.5.8; platform_system == \"Linux\" and platform_machine == \"x86_64\", but you have nvidia-cublas-cu12 12.5.3.2 which is incompatible.\n",
      "torch 2.6.0+cu124 requires nvidia-cuda-cupti-cu12==12.4.127; platform_system == \"Linux\" and platform_machine == \"x86_64\", but you have nvidia-cuda-cupti-cu12 12.5.82 which is incompatible.\n",
      "torch 2.6.0+cu124 requires nvidia-cuda-nvrtc-cu12==12.4.127; platform_system == \"Linux\" and platform_machine == \"x86_64\", but you have nvidia-cuda-nvrtc-cu12 12.5.82 which is incompatible.\n",
      "torch 2.6.0+cu124 requires nvidia-cuda-runtime-cu12==12.4.127; platform_system == \"Linux\" and platform_machine == \"x86_64\", but you have nvidia-cuda-runtime-cu12 12.5.82 which is incompatible.\n",
      "torch 2.6.0+cu124 requires nvidia-cudnn-cu12==9.1.0.70; platform_system == \"Linux\" and platform_machine == \"x86_64\", but you have nvidia-cudnn-cu12 9.3.0.75 which is incompatible.\n",
      "torch 2.6.0+cu124 requires nvidia-cufft-cu12==11.2.1.3; platform_system == \"Linux\" and platform_machine == \"x86_64\", but you have nvidia-cufft-cu12 11.2.3.61 which is incompatible.\n",
      "torch 2.6.0+cu124 requires nvidia-curand-cu12==10.3.5.147; platform_system == \"Linux\" and platform_machine == \"x86_64\", but you have nvidia-curand-cu12 10.3.6.82 which is incompatible.\n",
      "torch 2.6.0+cu124 requires nvidia-cusolver-cu12==11.6.1.9; platform_system == \"Linux\" and platform_machine == \"x86_64\", but you have nvidia-cusolver-cu12 11.6.3.83 which is incompatible.\n",
      "torch 2.6.0+cu124 requires nvidia-cusparse-cu12==12.3.1.170; platform_system == \"Linux\" and platform_machine == \"x86_64\", but you have nvidia-cusparse-cu12 12.5.1.3 which is incompatible.\n",
      "torch 2.6.0+cu124 requires nvidia-nvjitlink-cu12==12.4.127; platform_system == \"Linux\" and platform_machine == \"x86_64\", but you have nvidia-nvjitlink-cu12 12.5.82 which is incompatible.\u001b[0m\u001b[31m\n",
      "\u001b[0mSuccessfully installed datasets-3.5.0 dill-0.3.8 fsspec-2024.12.0 multiprocess-0.70.16 xxhash-3.5.0\n"
     ]
    }
   ],
   "source": [
    "!pip install datasets"
   ]
  },
  {
   "cell_type": "code",
   "execution_count": null,
   "metadata": {
    "colab": {
     "base_uri": "https://localhost:8080/",
     "height": 307,
     "referenced_widgets": [
      "d96fcacd75b44002a5e088cc85aa0810",
      "d966411ba5f547a08c880b53a85d7856",
      "bb494309ecfa4b0d81e89949ac792c1c",
      "df92152792544c8d91c258158076a9ac",
      "5f651274ae5f45d0bb743bb7c5a55800",
      "040c4b29c91e450286b576433f5d8f8e",
      "21fbfdab3ff04b3b88d1d7a8bf691b21",
      "b82e518429aa41f0a4e7474313ddbc08",
      "4f149d16314740b9a9aada69c2503649",
      "387ad5d951ca4ae1acee98b7bd3936eb",
      "36a99b2bfbf74d70b377b44b9e55161c",
      "baa79bbb07d74a2d9bd8d08c42282c34",
      "175f792660ec472d8ba402f1ed06dd7c",
      "66f317caac91435a969b1c5512a35451",
      "aa6ad292685b4e4bb81e9ee97c4fb459",
      "57d6c33c5a374fd2acb8f7c882e5c205",
      "b0dabea6fb0d4c37a8f565899c967225",
      "12b88e138c004244bc39ecc3541d8ecd",
      "f39497d829114ee78d90da05e9c2e5f3",
      "8833388097344a76b7830f782fea7edc",
      "bceb1d53bb1f474e9589c326b8927378",
      "28bfd1160f8d47daa6cbb483ab102704",
      "a77c66a54d6444009e56ab9a9daa35d9",
      "b43fdf742f634e6a88032f7dd5488b38",
      "a060eff0158c4278ae2454caaa1171ff",
      "31746f175b24481fa5a1a22faab81b50",
      "c621a370b8254ce387480000deb86d7f",
      "3b257daefcef43989a9bc24253dca233",
      "c06990c2aec74e05b9d1ff0a9e704530",
      "93caeef532d14e7b9fb762c869a26404",
      "6129be97253e422595d5747de620c6f4",
      "48e73b29cc124ee09b2680dc2f94a593",
      "44333ea80a6c4a17ac2ec98c5e60bd93"
     ]
    },
    "id": "nYwMaTxDgun6",
    "outputId": "c52623e3-1995-4dbf-ffca-693f6972f3c6"
   },
   "outputs": [
    {
     "name": "stderr",
     "output_type": "stream",
     "text": [
      "[nltk_data] Downloading package stopwords to /root/nltk_data...\n",
      "[nltk_data]   Package stopwords is already up-to-date!\n",
      "/usr/local/lib/python3.11/dist-packages/huggingface_hub/utils/_auth.py:94: UserWarning: \n",
      "The secret `HF_TOKEN` does not exist in your Colab secrets.\n",
      "To authenticate with the Hugging Face Hub, create a token in your settings tab (https://huggingface.co/settings/tokens), set it as secret in your Google Colab and restart your session.\n",
      "You will be able to reuse this secret in all of your notebooks.\n",
      "Please note that authentication is recommended but still optional to access public models or datasets.\n",
      "  warnings.warn(\n"
     ]
    },
    {
     "data": {
      "application/vnd.jupyter.widget-view+json": {
       "model_id": "d96fcacd75b44002a5e088cc85aa0810",
       "version_major": 2,
       "version_minor": 0
      },
      "text/plain": [
       "README.md:   0%|          | 0.00/4.21k [00:00<?, ?B/s]"
      ]
     },
     "metadata": {},
     "output_type": "display_data"
    },
    {
     "data": {
      "application/vnd.jupyter.widget-view+json": {
       "model_id": "baa79bbb07d74a2d9bd8d08c42282c34",
       "version_major": 2,
       "version_minor": 0
      },
      "text/plain": [
       "train-00000-of-00001.parquet:   0%|          | 0.00/2.65M [00:00<?, ?B/s]"
      ]
     },
     "metadata": {},
     "output_type": "display_data"
    },
    {
     "data": {
      "application/vnd.jupyter.widget-view+json": {
       "model_id": "a77c66a54d6444009e56ab9a9daa35d9",
       "version_major": 2,
       "version_minor": 0
      },
      "text/plain": [
       "Generating train split:   0%|          | 0/38091 [00:00<?, ? examples/s]"
      ]
     },
     "metadata": {},
     "output_type": "display_data"
    },
    {
     "name": "stdout",
     "output_type": "stream",
     "text": [
      "[2 1 0]\n",
      "✅ Processed Hugging Face data saved to 'hugging.json'\n"
     ]
    }
   ],
   "source": [
    "import pandas as pd\n",
    "import re\n",
    "import json\n",
    "import spacy\n",
    "import nltk\n",
    "from nltk.corpus import stopwords\n",
    "from string import punctuation\n",
    "from datasets import load_dataset\n",
    "\n",
    "# Load spaCy model\n",
    "nlp = spacy.load(\"en_core_web_sm\")\n",
    "\n",
    "# Download NLTK stopwords\n",
    "nltk.download(\"stopwords\")\n",
    "stop_words = set(stopwords.words(\"english\"))\n",
    "\n",
    "# Label mapping for HF dataset\n",
    "LABEL_MAP = {\n",
    "    0: -1,  # 0 = Bearish → Negative\n",
    "    1: 1,   # 1 = Bullish → Positive\n",
    "    2: 0    # 2 = Neutral\n",
    "}\n",
    "\n",
    "\n",
    "# Clean text\n",
    "def clean_text(text):\n",
    "    text = re.sub(r'\\$\\w+', '', text)          # Remove $TICKERS\n",
    "    text = re.sub(r'https?://\\S+', '', text)   # Remove URLs\n",
    "    return text.strip()\n",
    "\n",
    "# Preprocess function\n",
    "def preprocess_text(text, label):\n",
    "    text = clean_text(text)\n",
    "    doc = nlp(text.lower())\n",
    "    tokens = [\n",
    "        token.lemma_ for token in doc\n",
    "        if token.text not in stop_words and token.text not in punctuation and not token.is_space and not token.is_digit\n",
    "    ]\n",
    "    return {\"sentence\": tokens, \"sentiment\": LABEL_MAP.get(label, 0)}  # default Neutral\n",
    "\n",
    "# Load Hugging Face dataset\n",
    "dataset = load_dataset(\"TimKoornstra/financial-tweets-sentiment\", split=\"train\")\n",
    "df = dataset.to_pandas()\n",
    "print(df[\"sentiment\"].unique())\n",
    "# Process dataset using 'tweet' and 'sentiment'\n",
    "processed_data = [\n",
    "    preprocess_text(row[\"tweet\"], row[\"sentiment\"]) for _, row in df.iterrows()\n",
    "]\n",
    "\n",
    "# Save to JSON\n",
    "with open(\"hugging.json\", \"w\", encoding=\"utf-8\") as f:\n",
    "    json.dump(processed_data, f, indent=4, ensure_ascii=False)\n",
    "\n",
    "print(\" Processed Hugging Face data saved to 'hugging.json'\")\n"
   ]
  },
  {
   "cell_type": "code",
   "execution_count": null,
   "metadata": {
    "colab": {
     "base_uri": "https://localhost:8080/"
    },
    "id": "ZH_gruUrqKVf",
    "outputId": "620a759b-07ca-4baa-d444-509eb7dde312"
   },
   "outputs": [
    {
     "name": "stdout",
     "output_type": "stream",
     "text": [
      "final.json\n"
     ]
    }
   ],
   "source": [
    "import json\n",
    "\n",
    "# Load tweet.json\n",
    "with open(\"tweet.json\", \"r\", encoding=\"utf-8\") as f:\n",
    "    tweet_data = json.load(f)\n",
    "\n",
    "# Load stock.json\n",
    "with open(\"bank.json\", \"r\", encoding=\"utf-8\") as f:\n",
    "    stock_data = json.load(f)\n",
    "\n",
    "with open(\"hugging.json\", \"r\", encoding=\"utf-8\") as f:\n",
    "    hugging_data = json.load(f)\n",
    "#Combine both lists\n",
    "merged_data = tweet_data + stock_data  + hugging_data\n",
    "\n",
    "# Save to new JSON file\n",
    "with open(\"final.json\", \"w\", encoding=\"utf-8\") as f:\n",
    "    json.dump(merged_data, f, indent=4, ensure_ascii=False)\n",
    "\n",
    "print(\"final.json\")"
   ]
  },
  {
   "cell_type": "code",
   "execution_count": 5,
   "metadata": {
    "colab": {
     "base_uri": "https://localhost:8080/",
     "height": 106
    },
    "id": "rIAg_YJLuu84",
    "outputId": "144cb470-f4c6-4288-c8ff-e345b940e7f2"
   },
   "outputs": [
    {
     "name": "stdout",
     "output_type": "stream",
     "text": [
      "Original count: 138073\n",
      "Unique count: 138073\n"
     ]
    }
   ],
   "source": [
    "import json\n",
    "\n",
    "with open(\"augmented_final_dupless.json\", \"r\", encoding=\"utf-8\") as f:\n",
    "    data = json.load(f)\n",
    "\n",
    "\n",
    "print(f\"Original count: {len(data)}\")\n",
    "\n",
    "# Remove duplicates based on both sentence and sentiment\n",
    "seen = set()\n",
    "unique_data = []\n",
    "for item in data:\n",
    "    key = (tuple(item[\"sentence\"]), item[\"sentiment\"])  # Convert list to tuple for hashing\n",
    "    if key not in seen:\n",
    "        seen.add(key)\n",
    "        unique_data.append(item)\n",
    "\n",
    "print(f\"Unique count: {len(unique_data)}\")\n",
    "\n",
    "with open(\"augmented_final_dupless(fakeless).json\", \"w\", encoding=\"utf-8\") as f:\n",
    "    json.dump(unique_data, f, indent=4, ensure_ascii=False)\n"
   ]
  },
  {
   "cell_type": "code",
   "execution_count": null,
   "metadata": {
    "id": "SqdsD67WfVqe"
   },
   "outputs": [],
   "source": [
    "from google.colab import files\n",
    "uploaded = files.upload()\n",
    "\n"
   ]
  },
  {
   "cell_type": "code",
   "execution_count": 2,
   "metadata": {
    "id": "ORkotgAlti1-"
   },
   "outputs": [
    {
     "data": {
      "image/png": "[encoded data removed]",
      "text/plain": [
       "<Figure size 800x500 with 1 Axes>"
      ]
     },
     "metadata": {},
     "output_type": "display_data"
    }
   ],
   "source": [
    "import json\n",
    "import matplotlib.pyplot as plt\n",
    "from collections import Counter\n",
    "\n",
    "# Load processed data\n",
    "with open(\"augmented.json\", \"r\", encoding=\"utf-8\") as f:\n",
    "    data = json.load(f)\n",
    "\n",
    "# Count the number of sentences in each sentiment class\n",
    "sentiment_counts = Counter(entry[\"sentiment\"] for entry in data)\n",
    "\n",
    "# For consistent order: -1 (negative), 0 (neutral), 1 (positive)\n",
    "sentiment_labels = {-1: \"Negative\", 0: \"Neutral\", 1: \"Positive\"}\n",
    "sentiments = [-1, 0, 1]\n",
    "counts = [sentiment_counts.get(s, 0) for s in sentiments]\n",
    "labels = [sentiment_labels[s] for s in sentiments]\n",
    "total_count = sum(counts)\n",
    "\n",
    "# Plot\n",
    "plt.figure(figsize=(8, 5))\n",
    "bars = plt.bar(labels, counts, color=[\"red\", \"gray\", \"green\"])\n",
    "plt.xlabel(\"Sentiment\")\n",
    "plt.ylabel(\"Number of Sentences\")\n",
    "plt.title(\"Sentence Count by Sentiment Class\")\n",
    "\n",
    "# Add value labels above each bar\n",
    "for bar in bars:\n",
    "    height = bar.get_height()\n",
    "    plt.annotate(f'{height}', xy=(bar.get_x() + bar.get_width() / 2, height),\n",
    "                 xytext=(0, 3), textcoords=\"offset points\", ha='center', va='bottom')\n",
    "\n",
    "# Add total sentence count below the title\n",
    "plt.text(0.5, max(counts)*1.05, f'Total Sentences: {total_count}',\n",
    "         ha='center', va='bottom', fontsize=10, fontweight='bold')\n",
    "\n",
    "plt.grid(axis='y', linestyle='--', alpha=0.7)\n",
    "plt.tight_layout()\n",
    "plt.show()\n"
   ]
  },
  {
   "cell_type": "code",
   "execution_count": null,
   "metadata": {
    "colab": {
     "base_uri": "https://localhost:8080/"
    },
    "id": "zo1nHdYAvfiS",
    "outputId": "52ad5a4a-94d1-4dd7-d7ca-8c45960607c2"
   },
   "outputs": [
    {
     "name": "stdout",
     "output_type": "stream",
     "text": [
      "Total number of sentences: 26711\n"
     ]
    }
   ],
   "source": [
    "import json\n",
    "\n",
    "# Load processed data\n",
    "with open(\"final.json\", \"r\", encoding=\"utf-8\") as f:\n",
    "    data = json.load(f)\n",
    "\n",
    "# Total number of sentences\n",
    "total_sentences = len(data)\n",
    "\n",
    "print(f\"Total number of sentences: {total_sentences}\")\n"
   ]
  },
  {
   "cell_type": "code",
   "execution_count": null,
   "metadata": {
    "colab": {
     "base_uri": "https://localhost:8080/"
    },
    "id": "IHSyYQwGvyIV",
    "outputId": "bbb7990e-7284-4489-b95e-bc5e018ed82d"
   },
   "outputs": [
    {
     "name": "stdout",
     "output_type": "stream",
     "text": [
      "📄 Sentences_50Agree.txt\n",
      "  Neutral: 2879\n",
      "  Negative: 604\n",
      "  Positive: 1363\n",
      "  Total: 4846\n",
      "\n",
      "📄 Sentences_66Agree.txt\n",
      "  Neutral: 2535\n",
      "  Positive: 1168\n",
      "  Negative: 514\n",
      "  Total: 4217\n",
      "\n",
      "📄 Sentences_75Agree.txt\n",
      "  Neutral: 2146\n",
      "  Positive: 887\n",
      "  Negative: 420\n",
      "  Total: 3453\n",
      "\n",
      "📄 Sentences_AllAgree.txt\n",
      "  Neutral: 1391\n",
      "  Positive: 570\n",
      "  Negative: 303\n",
      "  Total: 2264\n",
      "\n",
      "🧾 Overall Total Across All Files:\n",
      "  Neutral: 8951\n",
      "  Negative: 1841\n",
      "  Positive: 3988\n",
      "  Grand Total Sentences: 14780\n"
     ]
    }
   ],
   "source": [
    "import os\n",
    "from collections import Counter\n",
    "\n",
    "# Define sentiment mapping\n",
    "SENTIMENT_MAP = {\n",
    "    \"@positive\": \"Positive\",\n",
    "    \"@neutral\": \"Neutral\",\n",
    "    \"@negative\": \"Negative\"\n",
    "}\n",
    "\n",
    "# List of files to process\n",
    "file_paths = [\n",
    "    \"Sentences_50Agree.txt\",\n",
    "    \"Sentences_66Agree.txt\",\n",
    "    \"Sentences_75Agree.txt\",\n",
    "    \"Sentences_AllAgree.txt\"\n",
    "]\n",
    "\n",
    "# Track grand total across all files\n",
    "grand_total = 0\n",
    "overall_sentiment_counts = Counter()\n",
    "\n",
    "# Process each file\n",
    "for file_path in file_paths:\n",
    "    with open(file_path, \"r\", encoding=\"ISO-8859-1\") as f:\n",
    "        lines = f.readlines()\n",
    "\n",
    "    sentiment_counts = Counter()\n",
    "    for line in lines:\n",
    "        for tag, label in SENTIMENT_MAP.items():\n",
    "            if tag in line:\n",
    "                sentiment_counts[label] += 1\n",
    "                break\n",
    "\n",
    "    total = sum(sentiment_counts.values())\n",
    "    grand_total += total\n",
    "    overall_sentiment_counts += sentiment_counts\n",
    "\n",
    "    print(f\"📄 {file_path}\")\n",
    "    for sentiment, count in sentiment_counts.items():\n",
    "        print(f\"  {sentiment}: {count}\")\n",
    "    print(f\"  Total: {total}\\n\")\n",
    "\n",
    "# Print grand total\n",
    "print(\"🧾 Overall Total Across All Files:\")\n",
    "for sentiment, count in overall_sentiment_counts.items():\n",
    "    print(f\"  {sentiment}: {count}\")\n",
    "print(f\"  Grand Total Sentences: {grand_total}\")\n"
   ]
  },
  {
   "cell_type": "code",
   "execution_count": null,
   "metadata": {
    "colab": {
     "base_uri": "https://localhost:8080/"
    },
    "id": "Ix-lA7rawoRh",
    "outputId": "96997088-180d-4dfa-cfeb-522508a38373"
   },
   "outputs": [
    {
     "name": "stdout",
     "output_type": "stream",
     "text": [
      "📄 sent_train.csv\n",
      "  Sentiment -1: 1442\n",
      "  Sentiment 0: 6178\n",
      "  Sentiment 1: 1923\n",
      "  Total: 9543\n",
      "\n",
      "📄 sent_valid.csv\n",
      "  Sentiment -1: 347\n",
      "  Sentiment 0: 1566\n",
      "  Sentiment 1: 475\n",
      "  Total: 2388\n",
      "\n",
      "🧾 Overall Total Across Both CSV Files:\n",
      "  Sentiment -1: 1789\n",
      "  Sentiment 0: 7744\n",
      "  Sentiment 1: 2398\n",
      "  Grand Total Sentences: 11931\n"
     ]
    }
   ],
   "source": [
    "import pandas as pd\n",
    "from collections import Counter\n",
    "\n",
    "# Mapping from LABEL_* to sentiment values\n",
    "label_map = {\n",
    "    0: -1,  # Bearish\n",
    "    1: 1,   # Bullish\n",
    "    2: 0    # Neutral\n",
    "}\n",
    "\n",
    "# File paths\n",
    "csv_files = [\"sent_train.csv\", \"sent_valid.csv\"]\n",
    "\n",
    "# Track overall totals\n",
    "overall_counts = Counter()\n",
    "grand_total = 0\n",
    "\n",
    "for file_path in csv_files:\n",
    "    df = pd.read_csv(file_path)\n",
    "\n",
    "    # Map string labels to integers\n",
    "    df['mapped_sentiment'] = df['label'].map(label_map)\n",
    "\n",
    "    # Count each sentiment\n",
    "    sentiment_counts = df['mapped_sentiment'].value_counts().sort_index()\n",
    "\n",
    "    print(f\"📄 {file_path}\")\n",
    "    for sentiment in [-1, 0, 1]:\n",
    "        count = sentiment_counts.get(sentiment, 0)\n",
    "        print(f\"  Sentiment {sentiment}: {count}\")\n",
    "        overall_counts[sentiment] += count\n",
    "        grand_total += count\n",
    "    print(f\"  Total: {sentiment_counts.sum()}\\n\")\n",
    "\n",
    "# Grand total across both files\n",
    "print(\"🧾 Overall Total Across Both CSV Files:\")\n",
    "for sentiment in [-1, 0, 1]:\n",
    "    print(f\"  Sentiment {sentiment}: {overall_counts.get(sentiment, 0)}\")\n",
    "print(f\"  Grand Total Sentences: {grand_total}\")\n"
   ]
  },
  {
   "cell_type": "code",
   "execution_count": 6,
   "metadata": {
    "colab": {
     "base_uri": "https://localhost:8080/"
    },
    "id": "NgJHX36vR9Bt",
    "outputId": "d0b3465d-6929-424b-d9e6-19bde3d0d23d"
   },
   "outputs": [
    {
     "name": "stdout",
     "output_type": "stream",
     "text": [
      "Requirement already satisfied: nlpaug in d:\\pyenvforgpu\\.venv\\lib\\site-packages (1.1.11)\n",
      "Requirement already satisfied: numpy>=1.16.2 in d:\\pyenvforgpu\\.venv\\lib\\site-packages (from nlpaug) (2.2.5)\n",
      "Requirement already satisfied: pandas>=1.2.0 in d:\\pyenvforgpu\\.venv\\lib\\site-packages (from nlpaug) (2.2.3)\n",
      "Requirement already satisfied: requests>=2.22.0 in d:\\pyenvforgpu\\.venv\\lib\\site-packages (from nlpaug) (2.32.3)\n",
      "Requirement already satisfied: gdown>=4.0.0 in d:\\pyenvforgpu\\.venv\\lib\\site-packages (from nlpaug) (5.2.0)\n",
      "Requirement already satisfied: beautifulsoup4 in d:\\pyenvforgpu\\.venv\\lib\\site-packages (from gdown>=4.0.0->nlpaug) (4.13.4)\n",
      "Requirement already satisfied: filelock in d:\\pyenvforgpu\\.venv\\lib\\site-packages (from gdown>=4.0.0->nlpaug) (3.18.0)\n",
      "Requirement already satisfied: tqdm in d:\\pyenvforgpu\\.venv\\lib\\site-packages (from gdown>=4.0.0->nlpaug) (4.67.1)\n",
      "Requirement already satisfied: python-dateutil>=2.8.2 in d:\\pyenvforgpu\\.venv\\lib\\site-packages (from pandas>=1.2.0->nlpaug) (2.9.0.post0)\n",
      "Requirement already satisfied: pytz>=2020.1 in d:\\pyenvforgpu\\.venv\\lib\\site-packages (from pandas>=1.2.0->nlpaug) (2025.2)\n",
      "Requirement already satisfied: tzdata>=2022.7 in d:\\pyenvforgpu\\.venv\\lib\\site-packages (from pandas>=1.2.0->nlpaug) (2025.2)\n",
      "Requirement already satisfied: charset-normalizer<4,>=2 in d:\\pyenvforgpu\\.venv\\lib\\site-packages (from requests>=2.22.0->nlpaug) (3.4.1)\n",
      "Requirement already satisfied: idna<4,>=2.5 in d:\\pyenvforgpu\\.venv\\lib\\site-packages (from requests>=2.22.0->nlpaug) (3.10)\n",
      "Requirement already satisfied: urllib3<3,>=1.21.1 in d:\\pyenvforgpu\\.venv\\lib\\site-packages (from requests>=2.22.0->nlpaug) (2.4.0)\n",
      "Requirement already satisfied: certifi>=2017.4.17 in d:\\pyenvforgpu\\.venv\\lib\\site-packages (from requests>=2.22.0->nlpaug) (2025.1.31)\n",
      "Requirement already satisfied: six>=1.5 in d:\\pyenvforgpu\\.venv\\lib\\site-packages (from python-dateutil>=2.8.2->pandas>=1.2.0->nlpaug) (1.17.0)\n",
      "Requirement already satisfied: soupsieve>1.2 in d:\\pyenvforgpu\\.venv\\lib\\site-packages (from beautifulsoup4->gdown>=4.0.0->nlpaug) (2.6)\n",
      "Requirement already satisfied: typing-extensions>=4.0.0 in d:\\pyenvforgpu\\.venv\\lib\\site-packages (from beautifulsoup4->gdown>=4.0.0->nlpaug) (4.13.2)\n",
      "Requirement already satisfied: PySocks!=1.5.7,>=1.5.6 in d:\\pyenvforgpu\\.venv\\lib\\site-packages (from requests[socks]->gdown>=4.0.0->nlpaug) (1.7.1)\n",
      "Requirement already satisfied: colorama in d:\\pyenvforgpu\\.venv\\lib\\site-packages (from tqdm->gdown>=4.0.0->nlpaug) (0.4.6)\n"
     ]
    }
   ],
   "source": [
    "!pip install nlpaug transformers torch --quiet\n",
    "!pip install nlpaug\n"
   ]
  },
  {
   "cell_type": "code",
   "execution_count": 7,
   "metadata": {},
   "outputs": [
    {
     "name": "stdout",
     "output_type": "stream",
     "text": [
      "D:\\anaconda\\envs\\torch_env\\python.exe\n"
     ]
    }
   ],
   "source": [
    "import sys\n",
    "print(sys.executable)\n"
   ]
  },
  {
   "cell_type": "code",
   "execution_count": 8,
   "metadata": {},
   "outputs": [
    {
     "name": "stdout",
     "output_type": "stream",
     "text": [
      "Collecting nlpaug\n",
      "  Using cached nlpaug-1.1.11-py3-none-any.whl.metadata (14 kB)\n",
      "Collecting transformers\n",
      "  Using cached transformers-4.51.3-py3-none-any.whl.metadata (38 kB)\n",
      "Requirement already satisfied: torch in d:\\anaconda\\envs\\torch_env\\lib\\site-packages (2.5.1)\n",
      "Requirement already satisfied: tqdm in d:\\anaconda\\envs\\torch_env\\lib\\site-packages (4.67.1)\n",
      "Requirement already satisfied: numpy>=1.16.2 in d:\\anaconda\\envs\\torch_env\\lib\\site-packages (from nlpaug) (2.2.4)\n",
      "Requirement already satisfied: pandas>=1.2.0 in d:\\anaconda\\envs\\torch_env\\lib\\site-packages (from nlpaug) (2.2.3)\n",
      "Requirement already satisfied: requests>=2.22.0 in d:\\anaconda\\envs\\torch_env\\lib\\site-packages (from nlpaug) (2.32.3)\n",
      "Collecting gdown>=4.0.0 (from nlpaug)\n",
      "  Using cached gdown-5.2.0-py3-none-any.whl.metadata (5.8 kB)\n",
      "Requirement already satisfied: filelock in d:\\anaconda\\envs\\torch_env\\lib\\site-packages (from transformers) (3.17.0)\n",
      "Collecting huggingface-hub<1.0,>=0.30.0 (from transformers)\n",
      "  Using cached huggingface_hub-0.30.2-py3-none-any.whl.metadata (13 kB)\n",
      "Requirement already satisfied: packaging>=20.0 in d:\\anaconda\\envs\\torch_env\\lib\\site-packages (from transformers) (24.2)\n",
      "Requirement already satisfied: pyyaml>=5.1 in d:\\anaconda\\envs\\torch_env\\lib\\site-packages (from transformers) (6.0.2)\n",
      "Requirement already satisfied: regex!=2019.12.17 in d:\\anaconda\\envs\\torch_env\\lib\\site-packages (from transformers) (2024.11.6)\n",
      "Collecting tokenizers<0.22,>=0.21 (from transformers)\n",
      "  Using cached tokenizers-0.21.1-cp39-abi3-win_amd64.whl.metadata (6.9 kB)\n",
      "Collecting safetensors>=0.4.3 (from transformers)\n",
      "  Using cached safetensors-0.5.3-cp38-abi3-win_amd64.whl.metadata (3.9 kB)\n",
      "Requirement already satisfied: typing-extensions>=4.8.0 in d:\\anaconda\\envs\\torch_env\\lib\\site-packages (from torch) (4.12.2)\n",
      "Collecting sympy==1.13.1 (from torch)\n",
      "  Using cached sympy-1.13.1-py3-none-any.whl.metadata (12 kB)\n",
      "Requirement already satisfied: networkx in d:\\anaconda\\envs\\torch_env\\lib\\site-packages (from torch) (3.4.2)\n",
      "Requirement already satisfied: jinja2 in d:\\anaconda\\envs\\torch_env\\lib\\site-packages (from torch) (3.1.6)\n",
      "Collecting fsspec (from torch)\n",
      "  Using cached fsspec-2025.3.2-py3-none-any.whl.metadata (11 kB)\n",
      "Requirement already satisfied: mpmath<1.4,>=1.1.0 in d:\\anaconda\\envs\\torch_env\\lib\\site-packages (from sympy==1.13.1->torch) (1.3.0)\n",
      "Requirement already satisfied: colorama in d:\\anaconda\\envs\\torch_env\\lib\\site-packages (from tqdm) (0.4.6)\n",
      "Requirement already satisfied: beautifulsoup4 in d:\\anaconda\\envs\\torch_env\\lib\\site-packages (from gdown>=4.0.0->nlpaug) (4.12.3)\n",
      "Requirement already satisfied: python-dateutil>=2.8.2 in d:\\anaconda\\envs\\torch_env\\lib\\site-packages (from pandas>=1.2.0->nlpaug) (2.9.0.post0)\n",
      "Requirement already satisfied: pytz>=2020.1 in d:\\anaconda\\envs\\torch_env\\lib\\site-packages (from pandas>=1.2.0->nlpaug) (2024.1)\n",
      "Requirement already satisfied: tzdata>=2022.7 in d:\\anaconda\\envs\\torch_env\\lib\\site-packages (from pandas>=1.2.0->nlpaug) (2023.3)\n",
      "Requirement already satisfied: charset-normalizer<4,>=2 in d:\\anaconda\\envs\\torch_env\\lib\\site-packages (from requests>=2.22.0->nlpaug) (3.3.2)\n",
      "Requirement already satisfied: idna<4,>=2.5 in d:\\anaconda\\envs\\torch_env\\lib\\site-packages (from requests>=2.22.0->nlpaug) (3.7)\n",
      "Requirement already satisfied: urllib3<3,>=1.21.1 in d:\\anaconda\\envs\\torch_env\\lib\\site-packages (from requests>=2.22.0->nlpaug) (2.3.0)\n",
      "Requirement already satisfied: certifi>=2017.4.17 in d:\\anaconda\\envs\\torch_env\\lib\\site-packages (from requests>=2.22.0->nlpaug) (2025.1.31)\n",
      "Requirement already satisfied: MarkupSafe>=2.0 in d:\\anaconda\\envs\\torch_env\\lib\\site-packages (from jinja2->torch) (3.0.2)\n",
      "Requirement already satisfied: six>=1.5 in d:\\anaconda\\envs\\torch_env\\lib\\site-packages (from python-dateutil>=2.8.2->pandas>=1.2.0->nlpaug) (1.17.0)\n",
      "Requirement already satisfied: soupsieve>1.2 in d:\\anaconda\\envs\\torch_env\\lib\\site-packages (from beautifulsoup4->gdown>=4.0.0->nlpaug) (2.5)\n",
      "Requirement already satisfied: PySocks!=1.5.7,>=1.5.6 in d:\\anaconda\\envs\\torch_env\\lib\\site-packages (from requests[socks]->gdown>=4.0.0->nlpaug) (1.7.1)\n",
      "Using cached nlpaug-1.1.11-py3-none-any.whl (410 kB)\n",
      "Using cached transformers-4.51.3-py3-none-any.whl (10.4 MB)\n",
      "Using cached sympy-1.13.1-py3-none-any.whl (6.2 MB)\n",
      "Using cached gdown-5.2.0-py3-none-any.whl (18 kB)\n",
      "Using cached huggingface_hub-0.30.2-py3-none-any.whl (481 kB)\n",
      "Using cached fsspec-2025.3.2-py3-none-any.whl (194 kB)\n",
      "Using cached safetensors-0.5.3-cp38-abi3-win_amd64.whl (308 kB)\n",
      "Using cached tokenizers-0.21.1-cp39-abi3-win_amd64.whl (2.4 MB)\n",
      "Installing collected packages: sympy, safetensors, fsspec, huggingface-hub, tokenizers, gdown, transformers, nlpaug\n",
      "  Attempting uninstall: sympy\n",
      "    Found existing installation: sympy 1.13.3\n",
      "    Uninstalling sympy-1.13.3:\n",
      "      Successfully uninstalled sympy-1.13.3\n",
      "Successfully installed fsspec-2025.3.2 gdown-5.2.0 huggingface-hub-0.30.2 nlpaug-1.1.11 safetensors-0.5.3 sympy-1.13.1 tokenizers-0.21.1 transformers-4.51.3\n"
     ]
    },
    {
     "name": "stderr",
     "output_type": "stream",
     "text": [
      "  WARNING: The script isympy.exe is installed in 'D:\\anaconda\\envs\\torch_env\\Scripts' which is not on PATH.\n",
      "  Consider adding this directory to PATH or, if you prefer to suppress this warning, use --no-warn-script-location.\n",
      "  WARNING: The script huggingface-cli.exe is installed in 'D:\\anaconda\\envs\\torch_env\\Scripts' which is not on PATH.\n",
      "  Consider adding this directory to PATH or, if you prefer to suppress this warning, use --no-warn-script-location.\n",
      "  WARNING: The script gdown.exe is installed in 'D:\\anaconda\\envs\\torch_env\\Scripts' which is not on PATH.\n",
      "  Consider adding this directory to PATH or, if you prefer to suppress this warning, use --no-warn-script-location.\n",
      "  WARNING: The script transformers-cli.exe is installed in 'D:\\anaconda\\envs\\torch_env\\Scripts' which is not on PATH.\n",
      "  Consider adding this directory to PATH or, if you prefer to suppress this warning, use --no-warn-script-location.\n"
     ]
    }
   ],
   "source": [
    "!D:/anaconda/envs/torch_env/python.exe -m pip install nlpaug transformers torch tqdm\n"
   ]
  },
  {
   "cell_type": "code",
   "execution_count": 9,
   "metadata": {
    "id": "Cp9aN-hrxxG7"
   },
   "outputs": [],
   "source": [
    "\n",
    "import json\n",
    "from tqdm import tqdm\n",
    "import nlpaug.augmenter.word as naw\n",
    "from collections import Counter\n"
   ]
  },
  {
   "cell_type": "code",
   "execution_count": 3,
   "metadata": {
    "id": "clDaInhkBuD-",
    "scrolled": true
   },
   "outputs": [
    {
     "name": "stderr",
     "output_type": "stream",
     "text": [
      "[nltk_data] Downloading package averaged_perceptron_tagger to\n",
      "[nltk_data]     C:\\Users\\Hrush\\AppData\\Roaming\\nltk_data...\n",
      "[nltk_data]   Package averaged_perceptron_tagger is already up-to-\n",
      "[nltk_data]       date!\n",
      "[nltk_data] Downloading package averaged_perceptron_tagger_eng to\n",
      "[nltk_data]     C:\\Users\\Hrush\\AppData\\Roaming\\nltk_data...\n",
      "[nltk_data]   Unzipping taggers\\averaged_perceptron_tagger_eng.zip.\n",
      "[nltk_data] Downloading package wordnet to\n",
      "[nltk_data]     C:\\Users\\Hrush\\AppData\\Roaming\\nltk_data...\n",
      "[nltk_data]   Package wordnet is already up-to-date!\n",
      "[nltk_data] Downloading package omw-1.4 to\n",
      "[nltk_data]     C:\\Users\\Hrush\\AppData\\Roaming\\nltk_data...\n",
      "[nltk_data]   Package omw-1.4 is already up-to-date!\n",
      "Augmenting:   2%|█▏                                                             | 1001/51418 [03:10<2:29:57,  5.60it/s]"
     ]
    },
    {
     "name": "stdout",
     "output_type": "stream",
     "text": [
      "💾 Saved checkpoint at 1000 → .\\augmented_checkpoint_1000.json\n"
     ]
    },
    {
     "name": "stderr",
     "output_type": "stream",
     "text": [
      "Augmenting:   4%|██▍                                                            | 2001/51418 [06:31<3:04:00,  4.48it/s]"
     ]
    },
    {
     "name": "stdout",
     "output_type": "stream",
     "text": [
      "💾 Saved checkpoint at 2000 → .\\augmented_checkpoint_2000.json\n"
     ]
    },
    {
     "name": "stderr",
     "output_type": "stream",
     "text": [
      "Augmenting:   6%|███▋                                                           | 3002/51418 [09:46<2:49:56,  4.75it/s]"
     ]
    },
    {
     "name": "stdout",
     "output_type": "stream",
     "text": [
      "💾 Saved checkpoint at 3000 → .\\augmented_checkpoint_3000.json\n"
     ]
    },
    {
     "name": "stderr",
     "output_type": "stream",
     "text": [
      "Augmenting:   8%|████▉                                                          | 4002/51418 [12:55<2:37:35,  5.01it/s]"
     ]
    },
    {
     "name": "stdout",
     "output_type": "stream",
     "text": [
      "💾 Saved checkpoint at 4000 → .\\augmented_checkpoint_4000.json\n"
     ]
    },
    {
     "name": "stderr",
     "output_type": "stream",
     "text": [
      "Augmenting:  10%|██████▏                                                        | 5001/51418 [16:15<4:53:02,  2.64it/s]"
     ]
    },
    {
     "name": "stdout",
     "output_type": "stream",
     "text": [
      "💾 Saved checkpoint at 5000 → .\\augmented_checkpoint_5000.json\n"
     ]
    },
    {
     "name": "stderr",
     "output_type": "stream",
     "text": [
      "Augmenting:  12%|███████▎                                                       | 6001/51418 [19:35<2:58:34,  4.24it/s]"
     ]
    },
    {
     "name": "stdout",
     "output_type": "stream",
     "text": [
      "💾 Saved checkpoint at 6000 → .\\augmented_checkpoint_6000.json\n"
     ]
    },
    {
     "name": "stderr",
     "output_type": "stream",
     "text": [
      "Augmenting:  14%|████████▌                                                      | 7001/51418 [22:57<3:15:16,  3.79it/s]"
     ]
    },
    {
     "name": "stdout",
     "output_type": "stream",
     "text": [
      "💾 Saved checkpoint at 7000 → .\\augmented_checkpoint_7000.json\n"
     ]
    },
    {
     "name": "stderr",
     "output_type": "stream",
     "text": [
      "Augmenting:  16%|█████████▊                                                     | 8002/51418 [26:05<3:28:39,  3.47it/s]"
     ]
    },
    {
     "name": "stdout",
     "output_type": "stream",
     "text": [
      "💾 Saved checkpoint at 8000 → .\\augmented_checkpoint_8000.json\n"
     ]
    },
    {
     "name": "stderr",
     "output_type": "stream",
     "text": [
      "Augmenting:  18%|███████████                                                    | 9001/51418 [29:12<3:45:16,  3.14it/s]"
     ]
    },
    {
     "name": "stdout",
     "output_type": "stream",
     "text": [
      "💾 Saved checkpoint at 9000 → .\\augmented_checkpoint_9000.json\n"
     ]
    },
    {
     "name": "stderr",
     "output_type": "stream",
     "text": [
      "Augmenting:  19%|████████████                                                  | 10002/51418 [32:26<2:40:07,  4.31it/s]"
     ]
    },
    {
     "name": "stdout",
     "output_type": "stream",
     "text": [
      "💾 Saved checkpoint at 10000 → .\\augmented_checkpoint_10000.json\n"
     ]
    },
    {
     "name": "stderr",
     "output_type": "stream",
     "text": [
      "Augmenting:  21%|█████████████▎                                                | 11002/51418 [35:33<2:34:43,  4.35it/s]"
     ]
    },
    {
     "name": "stdout",
     "output_type": "stream",
     "text": [
      "💾 Saved checkpoint at 11000 → .\\augmented_checkpoint_11000.json\n"
     ]
    },
    {
     "name": "stderr",
     "output_type": "stream",
     "text": [
      "Augmenting:  23%|██████████████▍                                               | 12001/51418 [39:45<4:39:29,  2.35it/s]"
     ]
    },
    {
     "name": "stdout",
     "output_type": "stream",
     "text": [
      "💾 Saved checkpoint at 12000 → .\\augmented_checkpoint_12000.json\n"
     ]
    },
    {
     "name": "stderr",
     "output_type": "stream",
     "text": [
      "Augmenting:  25%|███████████████▋                                              | 13001/51418 [44:41<4:32:41,  2.35it/s]"
     ]
    },
    {
     "name": "stdout",
     "output_type": "stream",
     "text": [
      "💾 Saved checkpoint at 13000 → .\\augmented_checkpoint_13000.json\n"
     ]
    },
    {
     "name": "stderr",
     "output_type": "stream",
     "text": [
      "Augmenting:  27%|████████████████▉                                             | 14001/51418 [49:29<4:41:08,  2.22it/s]"
     ]
    },
    {
     "name": "stdout",
     "output_type": "stream",
     "text": [
      "💾 Saved checkpoint at 14000 → .\\augmented_checkpoint_14000.json\n"
     ]
    },
    {
     "name": "stderr",
     "output_type": "stream",
     "text": [
      "Augmenting:  29%|██████████████████                                            | 15001/51418 [53:59<3:35:26,  2.82it/s]"
     ]
    },
    {
     "name": "stdout",
     "output_type": "stream",
     "text": [
      "💾 Saved checkpoint at 15000 → .\\augmented_checkpoint_15000.json\n"
     ]
    },
    {
     "name": "stderr",
     "output_type": "stream",
     "text": [
      "Augmenting:  31%|███████████████████▎                                          | 16002/51418 [58:28<3:14:49,  3.03it/s]"
     ]
    },
    {
     "name": "stdout",
     "output_type": "stream",
     "text": [
      "💾 Saved checkpoint at 16000 → .\\augmented_checkpoint_16000.json\n"
     ]
    },
    {
     "name": "stderr",
     "output_type": "stream",
     "text": [
      "Augmenting:  33%|███████████████████▊                                        | 17001/51418 [1:02:25<3:14:26,  2.95it/s]"
     ]
    },
    {
     "name": "stdout",
     "output_type": "stream",
     "text": [
      "💾 Saved checkpoint at 17000 → .\\augmented_checkpoint_17000.json\n"
     ]
    },
    {
     "name": "stderr",
     "output_type": "stream",
     "text": [
      "Augmenting:  35%|█████████████████████                                       | 18001/51418 [1:05:39<3:48:50,  2.43it/s]"
     ]
    },
    {
     "name": "stdout",
     "output_type": "stream",
     "text": [
      "💾 Saved checkpoint at 18000 → .\\augmented_checkpoint_18000.json\n"
     ]
    },
    {
     "name": "stderr",
     "output_type": "stream",
     "text": [
      "Augmenting:  37%|██████████████████████▏                                     | 19002/51418 [1:08:50<3:03:17,  2.95it/s]"
     ]
    },
    {
     "name": "stdout",
     "output_type": "stream",
     "text": [
      "💾 Saved checkpoint at 19000 → .\\augmented_checkpoint_19000.json\n"
     ]
    },
    {
     "name": "stderr",
     "output_type": "stream",
     "text": [
      "Augmenting:  39%|███████████████████████▎                                    | 20002/51418 [1:11:56<3:09:32,  2.76it/s]"
     ]
    },
    {
     "name": "stdout",
     "output_type": "stream",
     "text": [
      "💾 Saved checkpoint at 20000 → .\\augmented_checkpoint_20000.json\n"
     ]
    },
    {
     "name": "stderr",
     "output_type": "stream",
     "text": [
      "Augmenting:  41%|████████████████████████▌                                   | 21001/51418 [1:15:09<4:23:19,  1.93it/s]"
     ]
    },
    {
     "name": "stdout",
     "output_type": "stream",
     "text": [
      "💾 Saved checkpoint at 21000 → .\\augmented_checkpoint_21000.json\n"
     ]
    },
    {
     "name": "stderr",
     "output_type": "stream",
     "text": [
      "Augmenting:  43%|█████████████████████████▋                                  | 22002/51418 [1:18:18<3:24:00,  2.40it/s]"
     ]
    },
    {
     "name": "stdout",
     "output_type": "stream",
     "text": [
      "💾 Saved checkpoint at 22000 → .\\augmented_checkpoint_22000.json\n"
     ]
    },
    {
     "name": "stderr",
     "output_type": "stream",
     "text": [
      "Augmenting:  45%|██████████████████████████▊                                 | 23002/51418 [1:21:29<3:12:56,  2.45it/s]"
     ]
    },
    {
     "name": "stdout",
     "output_type": "stream",
     "text": [
      "💾 Saved checkpoint at 23000 → .\\augmented_checkpoint_23000.json\n"
     ]
    },
    {
     "name": "stderr",
     "output_type": "stream",
     "text": [
      "Augmenting:  47%|████████████████████████████                                | 24002/51418 [1:24:33<2:47:34,  2.73it/s]"
     ]
    },
    {
     "name": "stdout",
     "output_type": "stream",
     "text": [
      "💾 Saved checkpoint at 24000 → .\\augmented_checkpoint_24000.json\n"
     ]
    },
    {
     "name": "stderr",
     "output_type": "stream",
     "text": [
      "Augmenting:  49%|█████████████████████████████▏                              | 25002/51418 [1:27:47<2:37:09,  2.80it/s]"
     ]
    },
    {
     "name": "stdout",
     "output_type": "stream",
     "text": [
      "💾 Saved checkpoint at 25000 → .\\augmented_checkpoint_25000.json\n"
     ]
    },
    {
     "name": "stderr",
     "output_type": "stream",
     "text": [
      "Augmenting:  51%|██████████████████████████████▎                             | 26001/51418 [1:30:54<3:27:08,  2.05it/s]"
     ]
    },
    {
     "name": "stdout",
     "output_type": "stream",
     "text": [
      "💾 Saved checkpoint at 26000 → .\\augmented_checkpoint_26000.json\n"
     ]
    },
    {
     "name": "stderr",
     "output_type": "stream",
     "text": [
      "Augmenting:  53%|███████████████████████████████▌                            | 27001/51418 [1:34:35<3:24:53,  1.99it/s]"
     ]
    },
    {
     "name": "stdout",
     "output_type": "stream",
     "text": [
      "💾 Saved checkpoint at 27000 → .\\augmented_checkpoint_27000.json\n"
     ]
    },
    {
     "name": "stderr",
     "output_type": "stream",
     "text": [
      "Augmenting:  54%|████████████████████████████████▋                           | 28001/51418 [1:38:15<3:21:01,  1.94it/s]"
     ]
    },
    {
     "name": "stdout",
     "output_type": "stream",
     "text": [
      "💾 Saved checkpoint at 28000 → .\\augmented_checkpoint_28000.json\n"
     ]
    },
    {
     "name": "stderr",
     "output_type": "stream",
     "text": [
      "Augmenting:  56%|█████████████████████████████████▊                          | 29002/51418 [1:41:56<2:50:25,  2.19it/s]"
     ]
    },
    {
     "name": "stdout",
     "output_type": "stream",
     "text": [
      "💾 Saved checkpoint at 29000 → .\\augmented_checkpoint_29000.json\n"
     ]
    },
    {
     "name": "stderr",
     "output_type": "stream",
     "text": [
      "Augmenting:  58%|███████████████████████████████████                         | 30001/51418 [1:45:30<3:04:14,  1.94it/s]"
     ]
    },
    {
     "name": "stdout",
     "output_type": "stream",
     "text": [
      "💾 Saved checkpoint at 30000 → .\\augmented_checkpoint_30000.json\n"
     ]
    },
    {
     "name": "stderr",
     "output_type": "stream",
     "text": [
      "Augmenting:  60%|████████████████████████████████████▏                       | 31001/51418 [1:48:56<2:49:57,  2.00it/s]"
     ]
    },
    {
     "name": "stdout",
     "output_type": "stream",
     "text": [
      "💾 Saved checkpoint at 31000 → .\\augmented_checkpoint_31000.json\n"
     ]
    },
    {
     "name": "stderr",
     "output_type": "stream",
     "text": [
      "Augmenting:  62%|█████████████████████████████████████▎                      | 32002/51418 [1:53:09<3:00:22,  1.79it/s]"
     ]
    },
    {
     "name": "stdout",
     "output_type": "stream",
     "text": [
      "💾 Saved checkpoint at 32000 → .\\augmented_checkpoint_32000.json\n"
     ]
    },
    {
     "name": "stderr",
     "output_type": "stream",
     "text": [
      "Augmenting:  64%|██████████████████████████████████████▌                     | 33001/51418 [1:58:37<4:17:23,  1.19it/s]"
     ]
    },
    {
     "name": "stdout",
     "output_type": "stream",
     "text": [
      "💾 Saved checkpoint at 33000 → .\\augmented_checkpoint_33000.json\n"
     ]
    },
    {
     "name": "stderr",
     "output_type": "stream",
     "text": [
      "Augmenting:  66%|███████████████████████████████████████▋                    | 34003/51418 [2:01:03<1:45:12,  2.76it/s]"
     ]
    },
    {
     "name": "stdout",
     "output_type": "stream",
     "text": [
      "💾 Saved checkpoint at 34000 → .\\augmented_checkpoint_34000.json\n"
     ]
    },
    {
     "name": "stderr",
     "output_type": "stream",
     "text": [
      "Augmenting:  68%|████████████████████████████████████████▊                   | 35001/51418 [2:03:53<3:25:48,  1.33it/s]"
     ]
    },
    {
     "name": "stdout",
     "output_type": "stream",
     "text": [
      "💾 Saved checkpoint at 35000 → .\\augmented_checkpoint_35000.json\n"
     ]
    },
    {
     "name": "stderr",
     "output_type": "stream",
     "text": [
      "Augmenting:  70%|██████████████████████████████████████████                  | 36002/51418 [2:08:37<1:56:02,  2.21it/s]"
     ]
    },
    {
     "name": "stdout",
     "output_type": "stream",
     "text": [
      "💾 Saved checkpoint at 36000 → .\\augmented_checkpoint_36000.json\n"
     ]
    },
    {
     "name": "stderr",
     "output_type": "stream",
     "text": [
      "Augmenting:  72%|███████████████████████████████████████████▏                | 37001/51418 [2:13:16<2:31:46,  1.58it/s]"
     ]
    },
    {
     "name": "stdout",
     "output_type": "stream",
     "text": [
      "💾 Saved checkpoint at 37000 → .\\augmented_checkpoint_37000.json\n"
     ]
    },
    {
     "name": "stderr",
     "output_type": "stream",
     "text": [
      "Augmenting:  74%|████████████████████████████████████████████▎               | 38001/51418 [2:18:14<2:05:00,  1.79it/s]"
     ]
    },
    {
     "name": "stdout",
     "output_type": "stream",
     "text": [
      "💾 Saved checkpoint at 38000 → .\\augmented_checkpoint_38000.json\n"
     ]
    },
    {
     "name": "stderr",
     "output_type": "stream",
     "text": [
      "Augmenting:  76%|█████████████████████████████████████████████▌              | 39001/51418 [2:23:08<2:42:06,  1.28it/s]"
     ]
    },
    {
     "name": "stdout",
     "output_type": "stream",
     "text": [
      "💾 Saved checkpoint at 39000 → .\\augmented_checkpoint_39000.json\n"
     ]
    },
    {
     "name": "stderr",
     "output_type": "stream",
     "text": [
      "Augmenting:  78%|██████████████████████████████████████████████▋             | 40003/51418 [2:27:54<1:21:12,  2.34it/s]"
     ]
    },
    {
     "name": "stdout",
     "output_type": "stream",
     "text": [
      "💾 Saved checkpoint at 40000 → .\\augmented_checkpoint_40000.json\n"
     ]
    },
    {
     "name": "stderr",
     "output_type": "stream",
     "text": [
      "Augmenting:  80%|███████████████████████████████████████████████▊            | 41001/51418 [2:32:50<2:04:47,  1.39it/s]"
     ]
    },
    {
     "name": "stdout",
     "output_type": "stream",
     "text": [
      "💾 Saved checkpoint at 41000 → .\\augmented_checkpoint_41000.json\n"
     ]
    },
    {
     "name": "stderr",
     "output_type": "stream",
     "text": [
      "Augmenting:  82%|█████████████████████████████████████████████████           | 42001/51418 [2:37:37<1:52:31,  1.39it/s]"
     ]
    },
    {
     "name": "stdout",
     "output_type": "stream",
     "text": [
      "💾 Saved checkpoint at 42000 → .\\augmented_checkpoint_42000.json\n"
     ]
    },
    {
     "name": "stderr",
     "output_type": "stream",
     "text": [
      "Augmenting:  84%|██████████████████████████████████████████████████▏         | 43001/51418 [2:42:48<2:18:14,  1.01it/s]"
     ]
    },
    {
     "name": "stdout",
     "output_type": "stream",
     "text": [
      "💾 Saved checkpoint at 43000 → .\\augmented_checkpoint_43000.json\n"
     ]
    },
    {
     "name": "stderr",
     "output_type": "stream",
     "text": [
      "Augmenting:  86%|███████████████████████████████████████████████████▎        | 44001/51418 [2:47:41<1:42:08,  1.21it/s]"
     ]
    },
    {
     "name": "stdout",
     "output_type": "stream",
     "text": [
      "💾 Saved checkpoint at 44000 → .\\augmented_checkpoint_44000.json\n"
     ]
    },
    {
     "name": "stderr",
     "output_type": "stream",
     "text": [
      "Augmenting:  88%|████████████████████████████████████████████████████▌       | 45002/51418 [2:51:57<1:02:24,  1.71it/s]"
     ]
    },
    {
     "name": "stdout",
     "output_type": "stream",
     "text": [
      "💾 Saved checkpoint at 45000 → .\\augmented_checkpoint_45000.json\n"
     ]
    },
    {
     "name": "stderr",
     "output_type": "stream",
     "text": [
      "Augmenting:  89%|█████████████████████████████████████████████████████▋      | 46001/51418 [2:55:39<1:15:40,  1.19it/s]"
     ]
    },
    {
     "name": "stdout",
     "output_type": "stream",
     "text": [
      "💾 Saved checkpoint at 46000 → .\\augmented_checkpoint_46000.json\n"
     ]
    },
    {
     "name": "stderr",
     "output_type": "stream",
     "text": [
      "Augmenting:  91%|██████████████████████████████████████████████████████▊     | 47001/51418 [2:59:28<1:10:39,  1.04it/s]"
     ]
    },
    {
     "name": "stdout",
     "output_type": "stream",
     "text": [
      "💾 Saved checkpoint at 47000 → .\\augmented_checkpoint_47000.json\n"
     ]
    },
    {
     "name": "stderr",
     "output_type": "stream",
     "text": [
      "Augmenting:  93%|█████████████████████████████████████████████████████████▉    | 48002/51418 [3:03:18<28:48,  1.98it/s]"
     ]
    },
    {
     "name": "stdout",
     "output_type": "stream",
     "text": [
      "💾 Saved checkpoint at 48000 → .\\augmented_checkpoint_48000.json\n"
     ]
    },
    {
     "name": "stderr",
     "output_type": "stream",
     "text": [
      "Augmenting:  95%|███████████████████████████████████████████████████████████   | 49001/51418 [3:06:59<35:26,  1.14it/s]"
     ]
    },
    {
     "name": "stdout",
     "output_type": "stream",
     "text": [
      "💾 Saved checkpoint at 49000 → .\\augmented_checkpoint_49000.json\n"
     ]
    },
    {
     "name": "stderr",
     "output_type": "stream",
     "text": [
      "Augmenting:  97%|████████████████████████████████████████████████████████████▎ | 50001/51418 [3:12:44<20:53,  1.13it/s]"
     ]
    },
    {
     "name": "stdout",
     "output_type": "stream",
     "text": [
      "💾 Saved checkpoint at 50000 → .\\augmented_checkpoint_50000.json\n"
     ]
    },
    {
     "name": "stderr",
     "output_type": "stream",
     "text": [
      "Augmenting:  99%|█████████████████████████████████████████████████████████████▍| 51001/51418 [3:16:39<04:41,  1.48it/s]"
     ]
    },
    {
     "name": "stdout",
     "output_type": "stream",
     "text": [
      "💾 Saved checkpoint at 51000 → .\\augmented_checkpoint_51000.json\n"
     ]
    },
    {
     "name": "stderr",
     "output_type": "stream",
     "text": [
      "Augmenting: 100%|██████████████████████████████████████████████████████████████| 51418/51418 [3:17:50<00:00,  4.33it/s]\n"
     ]
    },
    {
     "name": "stdout",
     "output_type": "stream",
     "text": [
      "\n",
      "✅ All done! Final dataset size: 140136\n"
     ]
    }
   ],
   "source": [
    "import json\n",
    "from tqdm import tqdm\n",
    "from collections import Counter\n",
    "import nltk\n",
    "import nlpaug.augmenter.word as naw\n",
    "import os\n",
    "\n",
    "# === Download required NLTK models ===\n",
    "nltk.download(\"averaged_perceptron_tagger\")\n",
    "nltk.download(\"averaged_perceptron_tagger_eng\")\n",
    "nltk.download(\"wordnet\")\n",
    "nltk.download(\"omw-1.4\")\n",
    "\n",
    "# === Load your JSON dataset ===\n",
    "with open(\"final(dupless).json\", \"r\", encoding=\"utf-8\") as f:\n",
    "    data = json.load(f)\n",
    "\n",
    "# === Count word frequency ===\n",
    "word_counts = Counter()\n",
    "for item in data:\n",
    "    word_counts.update(item[\"sentence\"])\n",
    "\n",
    "RARE_THRESHOLD = 5\n",
    "rare_words = set([word for word, count in word_counts.items() if count < RARE_THRESHOLD])\n",
    "\n",
    "# === Setup augmenters ===\n",
    "bert_aug = naw.ContextualWordEmbsAug(\n",
    "    model_path='bert-base-uncased',\n",
    "    action=\"substitute\",\n",
    "    top_k=10,\n",
    "    device='cpu'  # Use 'cuda' if you have GPU enabled\n",
    ")\n",
    "syn_aug = naw.SynonymAug(aug_src='wordnet')\n",
    "\n",
    "# === Utility function to detect rare tokens ===\n",
    "def contains_rare_words(tokens):\n",
    "    return any(token in rare_words for token in tokens)\n",
    "\n",
    "# === Start augmenting ===\n",
    "augmented_data = []\n",
    "checkpoint_interval = 1000  # how often to save\n",
    "checkpoint_dir = \".\"        # save into current folder\n",
    "\n",
    "for idx, item in enumerate(tqdm(data, desc=\"Augmenting\")):\n",
    "    sentence = item[\"sentence\"]\n",
    "    sentiment = item[\"sentiment\"]\n",
    "    text = \" \".join(sentence)\n",
    "\n",
    "    # Decide augmentation count\n",
    "    if len(sentence) < 5:\n",
    "        num_augments = 3\n",
    "    elif contains_rare_words(sentence):\n",
    "        num_augments = 2\n",
    "    elif len(sentence) > 15:\n",
    "        num_augments = 0\n",
    "    else:\n",
    "        num_augments = 1\n",
    "\n",
    "    # Always add the original\n",
    "    augmented_data.append(item)\n",
    "\n",
    "    for i in range(num_augments):\n",
    "        try:\n",
    "            if i % 2 == 0:\n",
    "                augmented = bert_aug.augment(text)\n",
    "            else:\n",
    "                augmented = syn_aug.augment(text)\n",
    "\n",
    "            if augmented:\n",
    "                # Fix: support both str and list returns\n",
    "                tokens = augmented if isinstance(augmented, list) else augmented.split()\n",
    "                augmented_data.append({\n",
    "                    \"sentence\": tokens,\n",
    "                    \"sentiment\": sentiment\n",
    "                })\n",
    "\n",
    "        except Exception as e:\n",
    "            print(f\" Augmentation failed at index {idx}, aug #{i} — {e}\")\n",
    "            continue\n",
    "\n",
    "    # Save checkpoint\n",
    "    if idx > 0 and idx % checkpoint_interval == 0:\n",
    "        ckpt_path = os.path.join(checkpoint_dir, f\"augmented_checkpoint_{idx}.json\")\n",
    "        with open(ckpt_path, \"w\", encoding=\"utf-8\") as f:\n",
    "            json.dump(augmented_data, f, indent=2)\n",
    "        print(f\"💾 Saved checkpoint at {idx} → {ckpt_path}\")\n",
    "\n",
    "# === Final save ===\n",
    "final_path = os.path.join(checkpoint_dir, \"augmented_final_dupless.json\")\n",
    "with open(final_path, \"w\", encoding=\"utf-8\") as f:\n",
    "    json.dump(augmented_data, f, indent=2)\n",
    "\n",
    "print(f\"\\n All done! Final dataset size: {len(augmented_data)}\")\n"
   ]
  },
  {
   "cell_type": "code",
   "execution_count": null,
   "metadata": {},
   "outputs": [],
   "source": [
    "with open(\"augmented_partial.json\", \"w\", encoding=\"utf-8\") as f:\n",
    "    json.dump(augmented_data, f, indent=2)\n",
    "print(f\" Saved partial result: {len(augmented_data)} entries\")\n"
   ]
  },
  {
   "cell_type": "code",
   "execution_count": 3,
   "metadata": {},
   "outputs": [
    {
     "name": "stdout",
     "output_type": "stream",
     "text": [
      "Note: you may need to restart the kernel to use updated packages.\n"
     ]
    }
   ],
   "source": [
    "pip install nlpaug transformers sentencepiece torch tqdm --quiet"
   ]
  },
  {
   "cell_type": "code",
   "execution_count": 1,
   "metadata": {},
   "outputs": [
    {
     "name": "stderr",
     "output_type": "stream",
     "text": [
      "D:\\pyEnvForGpu\\.venv\\python.exe: No module named spacy\n"
     ]
    }
   ],
   "source": [
    "!python -m spacy download en_core_web_sm\n"
   ]
  },
  {
   "cell_type": "code",
   "execution_count": null,
   "metadata": {},
   "outputs": [],
   "source": [
    "import kagglehub\n",
    "\n",
    "# Download latest version\n",
    "path = kagglehub.dataset_download(\"davidwallach/financial-tweets\")\n",
    "\n"
   ]
  },
  {
   "cell_type": "code",
   "execution_count": 2,
   "metadata": {},
   "outputs": [
    {
     "ename": "ModuleNotFoundError",
     "evalue": "No module named 'pandas'",
     "output_type": "error",
     "traceback": [
      "\u001b[31m---------------------------------------------------------------------------\u001b[39m",
      "\u001b[31mModuleNotFoundError\u001b[39m                       Traceback (most recent call last)",
      "\u001b[36mCell\u001b[39m\u001b[36m \u001b[39m\u001b[32mIn[2]\u001b[39m\u001b[32m, line 1\u001b[39m\n\u001b[32m----> \u001b[39m\u001b[32m1\u001b[39m \u001b[38;5;28;01mimport\u001b[39;00m\u001b[38;5;250m \u001b[39m\u001b[34;01mpandas\u001b[39;00m\u001b[38;5;250m \u001b[39m\u001b[38;5;28;01mas\u001b[39;00m\u001b[38;5;250m \u001b[39m\u001b[34;01mpd\u001b[39;00m\n\u001b[32m      2\u001b[39m \u001b[38;5;28;01mimport\u001b[39;00m\u001b[38;5;250m \u001b[39m\u001b[34;01mjson\u001b[39;00m\n\u001b[32m      3\u001b[39m \u001b[38;5;28;01mimport\u001b[39;00m\u001b[38;5;250m \u001b[39m\u001b[34;01mos\u001b[39;00m\n",
      "\u001b[31mModuleNotFoundError\u001b[39m: No module named 'pandas'"
     ]
    }
   ],
   "source": [
    "import pandas as pd\n",
    "import json\n",
    "import os\n",
    "import spacy\n",
    "from nltk.corpus import stopwords\n",
    "import nltk\n",
    "\n",
    "# === Setup ===\n",
    "nltk.download(\"stopwords\")\n",
    "nlp = spacy.load(\"en_core_web_sm\")\n",
    "stop_words = set(stopwords.words(\"english\"))\n",
    "\n",
    "# === 1. Load final(dupless).json and drop sentiment ===\n",
    "with open(\"final(dupless).json\", \"r\", encoding=\"utf-8\") as f:\n",
    "    original_data = json.load(f)\n",
    "\n",
    "cleaned_data = [{\"sentence\": item[\"sentence\"]} for item in original_data]\n",
    "\n",
    "# === 2. Load and process Kaggle financial tweets ===\n",
    "df = pd.read_csv(\"tweets.csv\")  # Make sure the file exists\n",
    "\n",
    "# Adjust this if different:\n",
    "sentiment_mapping = {\n",
    "    \"neutral\": 0,\n",
    "    \"positive\": 1,\n",
    "    \"negative\": -1\n",
    "}\n",
    "\n",
    "def preprocess(text):\n",
    "    doc = nlp(str(text).lower())\n",
    "    return [\n",
    "        token.lemma_ for token in doc\n",
    "        if token.is_alpha and token.text not in stop_words\n",
    "    ]\n",
    "\n",
    "processed_kaggle = []\n",
    "for _, row in df.iterrows():\n",
    "    sentiment = row.get(\"sentiment\")\n",
    "    if sentiment in sentiment_mapping:\n",
    "        tokens = preprocess(row.get(\"text\", \"\"))\n",
    "        if tokens:\n",
    "            processed_kaggle.append({\n",
    "                \"sentence\": tokens,\n",
    "                \"sentiment\": sentiment_mapping[sentiment]\n",
    "            })\n",
    "\n",
    "# === 3. Combine cleaned original + kaggle data ===\n",
    "combined_data = cleaned_data + processed_kaggle\n",
    "\n",
    "# === 4. Save result ===\n",
    "with open(\"final_combined_cleaned.json\", \"w\", encoding=\"utf-8\") as f:\n",
    "    json.dump(combined_data, f, indent=2)\n",
    "\n",
    "print(f\" Done! Original cleaned: {len(cleaned_data)}, Kaggle added: {len(processed_kaggle)}, Total: {len(combined_data)}\")\n"
   ]
  },
  {
   "cell_type": "code",
   "execution_count": 3,
   "metadata": {},
   "outputs": [
    {
     "name": "stdout",
     "output_type": "stream",
     "text": [
      "✅ Saved as 'output_no_sentiment.json'\n",
      "📊 Rows before: 51418\n",
      "📊 Rows after:  51418\n"
     ]
    }
   ],
   "source": [
    "import json\n",
    "\n",
    "# Load the original file\n",
    "with open(\"final(dupless).json\", \"r\", encoding=\"utf-8\") as f:\n",
    "    data = json.load(f)\n",
    "\n",
    "# Count before\n",
    "before_count = len(data)\n",
    "\n",
    "# Remove 'sentiment' from each entry\n",
    "for item in data:\n",
    "    item.pop(\"sentiment\", None)\n",
    "\n",
    "# Count after (should be the same unless you're filtering)\n",
    "after_count = len(data)\n",
    "\n",
    "# Save the cleaned file\n",
    "with open(\"output_no_sentiment.json\", \"w\", encoding=\"utf-8\") as f:\n",
    "    json.dump(data, f, indent=2)\n",
    "\n",
    "print(f\" Saved as 'output_no_sentiment.json'\")\n",
    "print(f\" Rows before: {before_count}\")\n",
    "print(f\" Rows after:  {after_count}\")\n"
   ]
  },
  {
   "cell_type": "code",
   "execution_count": 5,
   "metadata": {},
   "outputs": [
    {
     "name": "stdout",
     "output_type": "stream",
     "text": [
      "✅ Merged 28241 + 25709 = 53950 entries into 'merged_with_4.json'\n"
     ]
    }
   ],
   "source": [
    "import json\n",
    "\n",
    "# === Load temp.json (no sentiment) ===\n",
    "with open(\"output_no_sentiment.json\", \"r\", encoding=\"utf-8\") as f:\n",
    "    temp_data = json.load(f)\n",
    "\n",
    "# === Split into halves ===\n",
    "midpoint = len(temp_data) // 2\n",
    "first_half = temp_data[:midpoint]\n",
    "second_half = temp_data[midpoint:]\n",
    "\n",
    "# === Load 4.json ===\n",
    "with open(\"4.json\", \"r\", encoding=\"utf-8\") as f:\n",
    "    data_4 = json.load(f)\n",
    "\n",
    "# === Merge first half with 4.json ===\n",
    "merged = data_4 + first_half\n",
    "\n",
    "# === Save to file ===\n",
    "with open(\"merged.json\", \"w\", encoding=\"utf-8\") as f:\n",
    "    json.dump(merged, f, indent=2)\n",
    "\n",
    "print(f\" Merged {len(data_4)} + {len(first_half)} = {len(merged)} entries into 'merged_with_4.json'\")\n"
   ]
  },
  {
   "cell_type": "code",
   "execution_count": null,
   "metadata": {},
   "outputs": [],
   "source": []
  }
 ],
 "metadata": {
  "accelerator": "GPU",
  "colab": {
   "gpuType": "T4",
   "provenance": []
  },
  "kernelspec": {
   "display_name": "Python 3 (ipykernel)",
   "language": "python",
   "name": "python3"
  },
  "language_info": {
   "codemirror_mode": {
    "name": "ipython",
    "version": 3
   },
   "file_extension": ".py",
   "mimetype": "text/x-python",
   "name": "python",
   "nbconvert_exporter": "python",
   "pygments_lexer": "ipython3",
   "version": "3.13.2"
  },
  "widgets": {
   "application/vnd.jupyter.widget-state+json": {
    "040c4b29c91e450286b576433f5d8f8e": {
     "model_module": "@jupyter-widgets/base",
     "model_module_version": "1.2.0",
     "model_name": "LayoutModel",
     "state": {
      "_model_module": "@jupyter-widgets/base",
      "_model_module_version": "1.2.0",
      "_model_name": "LayoutModel",
      "_view_count": null,
      "_view_module": "@jupyter-widgets/base",
      "_view_module_version": "1.2.0",
      "_view_name": "LayoutView",
      "align_content": null,
      "align_items": null,
      "align_self": null,
      "border": null,
      "bottom": null,
      "display": null,
      "flex": null,
      "flex_flow": null,
      "grid_area": null,
      "grid_auto_columns": null,
      "grid_auto_flow": null,
      "grid_auto_rows": null,
      "grid_column": null,
      "grid_gap": null,
      "grid_row": null,
      "grid_template_areas": null,
      "grid_template_columns": null,
      "grid_template_rows": null,
      "height": null,
      "justify_content": null,
      "justify_items": null,
      "left": null,
      "margin": null,
      "max_height": null,
      "max_width": null,
      "min_height": null,
      "min_width": null,
      "object_fit": null,
      "object_position": null,
      "order": null,
      "overflow": null,
      "overflow_x": null,
      "overflow_y": null,
      "padding": null,
      "right": null,
      "top": null,
      "visibility": null,
      "width": null
     }
    },
    "12b88e138c004244bc39ecc3541d8ecd": {
     "model_module": "@jupyter-widgets/controls",
     "model_module_version": "1.5.0",
     "model_name": "DescriptionStyleModel",
     "state": {
      "_model_module": "@jupyter-widgets/controls",
      "_model_module_version": "1.5.0",
      "_model_name": "DescriptionStyleModel",
      "_view_count": null,
      "_view_module": "@jupyter-widgets/base",
      "_view_module_version": "1.2.0",
      "_view_name": "StyleView",
      "description_width": ""
     }
    },
    "175f792660ec472d8ba402f1ed06dd7c": {
     "model_module": "@jupyter-widgets/controls",
     "model_module_version": "1.5.0",
     "model_name": "HTMLModel",
     "state": {
      "_dom_classes": [],
      "_model_module": "@jupyter-widgets/controls",
      "_model_module_version": "1.5.0",
      "_model_name": "HTMLModel",
      "_view_count": null,
      "_view_module": "@jupyter-widgets/controls",
      "_view_module_version": "1.5.0",
      "_view_name": "HTMLView",
      "description": "",
      "description_tooltip": null,
      "layout": "IPY_MODEL_b0dabea6fb0d4c37a8f565899c967225",
      "placeholder": "​",
      "style": "IPY_MODEL_12b88e138c004244bc39ecc3541d8ecd",
      "value": "train-00000-of-00001.parquet: 100%"
     }
    },
    "21fbfdab3ff04b3b88d1d7a8bf691b21": {
     "model_module": "@jupyter-widgets/controls",
     "model_module_version": "1.5.0",
     "model_name": "DescriptionStyleModel",
     "state": {
      "_model_module": "@jupyter-widgets/controls",
      "_model_module_version": "1.5.0",
      "_model_name": "DescriptionStyleModel",
      "_view_count": null,
      "_view_module": "@jupyter-widgets/base",
      "_view_module_version": "1.2.0",
      "_view_name": "StyleView",
      "description_width": ""
     }
    },
    "28bfd1160f8d47daa6cbb483ab102704": {
     "model_module": "@jupyter-widgets/controls",
     "model_module_version": "1.5.0",
     "model_name": "DescriptionStyleModel",
     "state": {
      "_model_module": "@jupyter-widgets/controls",
      "_model_module_version": "1.5.0",
      "_model_name": "DescriptionStyleModel",
      "_view_count": null,
      "_view_module": "@jupyter-widgets/base",
      "_view_module_version": "1.2.0",
      "_view_name": "StyleView",
      "description_width": ""
     }
    },
    "31746f175b24481fa5a1a22faab81b50": {
     "model_module": "@jupyter-widgets/controls",
     "model_module_version": "1.5.0",
     "model_name": "HTMLModel",
     "state": {
      "_dom_classes": [],
      "_model_module": "@jupyter-widgets/controls",
      "_model_module_version": "1.5.0",
      "_model_name": "HTMLModel",
      "_view_count": null,
      "_view_module": "@jupyter-widgets/controls",
      "_view_module_version": "1.5.0",
      "_view_name": "HTMLView",
      "description": "",
      "description_tooltip": null,
      "layout": "IPY_MODEL_48e73b29cc124ee09b2680dc2f94a593",
      "placeholder": "​",
      "style": "IPY_MODEL_44333ea80a6c4a17ac2ec98c5e60bd93",
      "value": " 38091/38091 [00:00&lt;00:00, 239391.52 examples/s]"
     }
    },
    "36a99b2bfbf74d70b377b44b9e55161c": {
     "model_module": "@jupyter-widgets/controls",
     "model_module_version": "1.5.0",
     "model_name": "DescriptionStyleModel",
     "state": {
      "_model_module": "@jupyter-widgets/controls",
      "_model_module_version": "1.5.0",
      "_model_name": "DescriptionStyleModel",
      "_view_count": null,
      "_view_module": "@jupyter-widgets/base",
      "_view_module_version": "1.2.0",
      "_view_name": "StyleView",
      "description_width": ""
     }
    },
    "387ad5d951ca4ae1acee98b7bd3936eb": {
     "model_module": "@jupyter-widgets/base",
     "model_module_version": "1.2.0",
     "model_name": "LayoutModel",
     "state": {
      "_model_module": "@jupyter-widgets/base",
      "_model_module_version": "1.2.0",
      "_model_name": "LayoutModel",
      "_view_count": null,
      "_view_module": "@jupyter-widgets/base",
      "_view_module_version": "1.2.0",
      "_view_name": "LayoutView",
      "align_content": null,
      "align_items": null,
      "align_self": null,
      "border": null,
      "bottom": null,
      "display": null,
      "flex": null,
      "flex_flow": null,
      "grid_area": null,
      "grid_auto_columns": null,
      "grid_auto_flow": null,
      "grid_auto_rows": null,
      "grid_column": null,
      "grid_gap": null,
      "grid_row": null,
      "grid_template_areas": null,
      "grid_template_columns": null,
      "grid_template_rows": null,
      "height": null,
      "justify_content": null,
      "justify_items": null,
      "left": null,
      "margin": null,
      "max_height": null,
      "max_width": null,
      "min_height": null,
      "min_width": null,
      "object_fit": null,
      "object_position": null,
      "order": null,
      "overflow": null,
      "overflow_x": null,
      "overflow_y": null,
      "padding": null,
      "right": null,
      "top": null,
      "visibility": null,
      "width": null
     }
    },
    "3b257daefcef43989a9bc24253dca233": {
     "model_module": "@jupyter-widgets/base",
     "model_module_version": "1.2.0",
     "model_name": "LayoutModel",
     "state": {
      "_model_module": "@jupyter-widgets/base",
      "_model_module_version": "1.2.0",
      "_model_name": "LayoutModel",
      "_view_count": null,
      "_view_module": "@jupyter-widgets/base",
      "_view_module_version": "1.2.0",
      "_view_name": "LayoutView",
      "align_content": null,
      "align_items": null,
      "align_self": null,
      "border": null,
      "bottom": null,
      "display": null,
      "flex": null,
      "flex_flow": null,
      "grid_area": null,
      "grid_auto_columns": null,
      "grid_auto_flow": null,
      "grid_auto_rows": null,
      "grid_column": null,
      "grid_gap": null,
      "grid_row": null,
      "grid_template_areas": null,
      "grid_template_columns": null,
      "grid_template_rows": null,
      "height": null,
      "justify_content": null,
      "justify_items": null,
      "left": null,
      "margin": null,
      "max_height": null,
      "max_width": null,
      "min_height": null,
      "min_width": null,
      "object_fit": null,
      "object_position": null,
      "order": null,
      "overflow": null,
      "overflow_x": null,
      "overflow_y": null,
      "padding": null,
      "right": null,
      "top": null,
      "visibility": null,
      "width": null
     }
    },
    "44333ea80a6c4a17ac2ec98c5e60bd93": {
     "model_module": "@jupyter-widgets/controls",
     "model_module_version": "1.5.0",
     "model_name": "DescriptionStyleModel",
     "state": {
      "_model_module": "@jupyter-widgets/controls",
      "_model_module_version": "1.5.0",
      "_model_name": "DescriptionStyleModel",
      "_view_count": null,
      "_view_module": "@jupyter-widgets/base",
      "_view_module_version": "1.2.0",
      "_view_name": "StyleView",
      "description_width": ""
     }
    },
    "48e73b29cc124ee09b2680dc2f94a593": {
     "model_module": "@jupyter-widgets/base",
     "model_module_version": "1.2.0",
     "model_name": "LayoutModel",
     "state": {
      "_model_module": "@jupyter-widgets/base",
      "_model_module_version": "1.2.0",
      "_model_name": "LayoutModel",
      "_view_count": null,
      "_view_module": "@jupyter-widgets/base",
      "_view_module_version": "1.2.0",
      "_view_name": "LayoutView",
      "align_content": null,
      "align_items": null,
      "align_self": null,
      "border": null,
      "bottom": null,
      "display": null,
      "flex": null,
      "flex_flow": null,
      "grid_area": null,
      "grid_auto_columns": null,
      "grid_auto_flow": null,
      "grid_auto_rows": null,
      "grid_column": null,
      "grid_gap": null,
      "grid_row": null,
      "grid_template_areas": null,
      "grid_template_columns": null,
      "grid_template_rows": null,
      "height": null,
      "justify_content": null,
      "justify_items": null,
      "left": null,
      "margin": null,
      "max_height": null,
      "max_width": null,
      "min_height": null,
      "min_width": null,
      "object_fit": null,
      "object_position": null,
      "order": null,
      "overflow": null,
      "overflow_x": null,
      "overflow_y": null,
      "padding": null,
      "right": null,
      "top": null,
      "visibility": null,
      "width": null
     }
    },
    "4f149d16314740b9a9aada69c2503649": {
     "model_module": "@jupyter-widgets/controls",
     "model_module_version": "1.5.0",
     "model_name": "ProgressStyleModel",
     "state": {
      "_model_module": "@jupyter-widgets/controls",
      "_model_module_version": "1.5.0",
      "_model_name": "ProgressStyleModel",
      "_view_count": null,
      "_view_module": "@jupyter-widgets/base",
      "_view_module_version": "1.2.0",
      "_view_name": "StyleView",
      "bar_color": null,
      "description_width": ""
     }
    },
    "57d6c33c5a374fd2acb8f7c882e5c205": {
     "model_module": "@jupyter-widgets/base",
     "model_module_version": "1.2.0",
     "model_name": "LayoutModel",
     "state": {
      "_model_module": "@jupyter-widgets/base",
      "_model_module_version": "1.2.0",
      "_model_name": "LayoutModel",
      "_view_count": null,
      "_view_module": "@jupyter-widgets/base",
      "_view_module_version": "1.2.0",
      "_view_name": "LayoutView",
      "align_content": null,
      "align_items": null,
      "align_self": null,
      "border": null,
      "bottom": null,
      "display": null,
      "flex": null,
      "flex_flow": null,
      "grid_area": null,
      "grid_auto_columns": null,
      "grid_auto_flow": null,
      "grid_auto_rows": null,
      "grid_column": null,
      "grid_gap": null,
      "grid_row": null,
      "grid_template_areas": null,
      "grid_template_columns": null,
      "grid_template_rows": null,
      "height": null,
      "justify_content": null,
      "justify_items": null,
      "left": null,
      "margin": null,
      "max_height": null,
      "max_width": null,
      "min_height": null,
      "min_width": null,
      "object_fit": null,
      "object_position": null,
      "order": null,
      "overflow": null,
      "overflow_x": null,
      "overflow_y": null,
      "padding": null,
      "right": null,
      "top": null,
      "visibility": null,
      "width": null
     }
    },
    "5f651274ae5f45d0bb743bb7c5a55800": {
     "model_module": "@jupyter-widgets/base",
     "model_module_version": "1.2.0",
     "model_name": "LayoutModel",
     "state": {
      "_model_module": "@jupyter-widgets/base",
      "_model_module_version": "1.2.0",
      "_model_name": "LayoutModel",
      "_view_count": null,
      "_view_module": "@jupyter-widgets/base",
      "_view_module_version": "1.2.0",
      "_view_name": "LayoutView",
      "align_content": null,
      "align_items": null,
      "align_self": null,
      "border": null,
      "bottom": null,
      "display": null,
      "flex": null,
      "flex_flow": null,
      "grid_area": null,
      "grid_auto_columns": null,
      "grid_auto_flow": null,
      "grid_auto_rows": null,
      "grid_column": null,
      "grid_gap": null,
      "grid_row": null,
      "grid_template_areas": null,
      "grid_template_columns": null,
      "grid_template_rows": null,
      "height": null,
      "justify_content": null,
      "justify_items": null,
      "left": null,
      "margin": null,
      "max_height": null,
      "max_width": null,
      "min_height": null,
      "min_width": null,
      "object_fit": null,
      "object_position": null,
      "order": null,
      "overflow": null,
      "overflow_x": null,
      "overflow_y": null,
      "padding": null,
      "right": null,
      "top": null,
      "visibility": null,
      "width": null
     }
    },
    "6129be97253e422595d5747de620c6f4": {
     "model_module": "@jupyter-widgets/controls",
     "model_module_version": "1.5.0",
     "model_name": "ProgressStyleModel",
     "state": {
      "_model_module": "@jupyter-widgets/controls",
      "_model_module_version": "1.5.0",
      "_model_name": "ProgressStyleModel",
      "_view_count": null,
      "_view_module": "@jupyter-widgets/base",
      "_view_module_version": "1.2.0",
      "_view_name": "StyleView",
      "bar_color": null,
      "description_width": ""
     }
    },
    "66f317caac91435a969b1c5512a35451": {
     "model_module": "@jupyter-widgets/controls",
     "model_module_version": "1.5.0",
     "model_name": "FloatProgressModel",
     "state": {
      "_dom_classes": [],
      "_model_module": "@jupyter-widgets/controls",
      "_model_module_version": "1.5.0",
      "_model_name": "FloatProgressModel",
      "_view_count": null,
      "_view_module": "@jupyter-widgets/controls",
      "_view_module_version": "1.5.0",
      "_view_name": "ProgressView",
      "bar_style": "success",
      "description": "",
      "description_tooltip": null,
      "layout": "IPY_MODEL_f39497d829114ee78d90da05e9c2e5f3",
      "max": 2648082,
      "min": 0,
      "orientation": "horizontal",
      "style": "IPY_MODEL_8833388097344a76b7830f782fea7edc",
      "value": 2648082
     }
    },
    "8833388097344a76b7830f782fea7edc": {
     "model_module": "@jupyter-widgets/controls",
     "model_module_version": "1.5.0",
     "model_name": "ProgressStyleModel",
     "state": {
      "_model_module": "@jupyter-widgets/controls",
      "_model_module_version": "1.5.0",
      "_model_name": "ProgressStyleModel",
      "_view_count": null,
      "_view_module": "@jupyter-widgets/base",
      "_view_module_version": "1.2.0",
      "_view_name": "StyleView",
      "bar_color": null,
      "description_width": ""
     }
    },
    "93caeef532d14e7b9fb762c869a26404": {
     "model_module": "@jupyter-widgets/base",
     "model_module_version": "1.2.0",
     "model_name": "LayoutModel",
     "state": {
      "_model_module": "@jupyter-widgets/base",
      "_model_module_version": "1.2.0",
      "_model_name": "LayoutModel",
      "_view_count": null,
      "_view_module": "@jupyter-widgets/base",
      "_view_module_version": "1.2.0",
      "_view_name": "LayoutView",
      "align_content": null,
      "align_items": null,
      "align_self": null,
      "border": null,
      "bottom": null,
      "display": null,
      "flex": null,
      "flex_flow": null,
      "grid_area": null,
      "grid_auto_columns": null,
      "grid_auto_flow": null,
      "grid_auto_rows": null,
      "grid_column": null,
      "grid_gap": null,
      "grid_row": null,
      "grid_template_areas": null,
      "grid_template_columns": null,
      "grid_template_rows": null,
      "height": null,
      "justify_content": null,
      "justify_items": null,
      "left": null,
      "margin": null,
      "max_height": null,
      "max_width": null,
      "min_height": null,
      "min_width": null,
      "object_fit": null,
      "object_position": null,
      "order": null,
      "overflow": null,
      "overflow_x": null,
      "overflow_y": null,
      "padding": null,
      "right": null,
      "top": null,
      "visibility": null,
      "width": null
     }
    },
    "a060eff0158c4278ae2454caaa1171ff": {
     "model_module": "@jupyter-widgets/controls",
     "model_module_version": "1.5.0",
     "model_name": "FloatProgressModel",
     "state": {
      "_dom_classes": [],
      "_model_module": "@jupyter-widgets/controls",
      "_model_module_version": "1.5.0",
      "_model_name": "FloatProgressModel",
      "_view_count": null,
      "_view_module": "@jupyter-widgets/controls",
      "_view_module_version": "1.5.0",
      "_view_name": "ProgressView",
      "bar_style": "success",
      "description": "",
      "description_tooltip": null,
      "layout": "IPY_MODEL_93caeef532d14e7b9fb762c869a26404",
      "max": 38091,
      "min": 0,
      "orientation": "horizontal",
      "style": "IPY_MODEL_6129be97253e422595d5747de620c6f4",
      "value": 38091
     }
    },
    "a77c66a54d6444009e56ab9a9daa35d9": {
     "model_module": "@jupyter-widgets/controls",
     "model_module_version": "1.5.0",
     "model_name": "HBoxModel",
     "state": {
      "_dom_classes": [],
      "_model_module": "@jupyter-widgets/controls",
      "_model_module_version": "1.5.0",
      "_model_name": "HBoxModel",
      "_view_count": null,
      "_view_module": "@jupyter-widgets/controls",
      "_view_module_version": "1.5.0",
      "_view_name": "HBoxView",
      "box_style": "",
      "children": [
       "IPY_MODEL_b43fdf742f634e6a88032f7dd5488b38",
       "IPY_MODEL_a060eff0158c4278ae2454caaa1171ff",
       "IPY_MODEL_31746f175b24481fa5a1a22faab81b50"
      ],
      "layout": "IPY_MODEL_c621a370b8254ce387480000deb86d7f"
     }
    },
    "aa6ad292685b4e4bb81e9ee97c4fb459": {
     "model_module": "@jupyter-widgets/controls",
     "model_module_version": "1.5.0",
     "model_name": "HTMLModel",
     "state": {
      "_dom_classes": [],
      "_model_module": "@jupyter-widgets/controls",
      "_model_module_version": "1.5.0",
      "_model_name": "HTMLModel",
      "_view_count": null,
      "_view_module": "@jupyter-widgets/controls",
      "_view_module_version": "1.5.0",
      "_view_name": "HTMLView",
      "description": "",
      "description_tooltip": null,
      "layout": "IPY_MODEL_bceb1d53bb1f474e9589c326b8927378",
      "placeholder": "​",
      "style": "IPY_MODEL_28bfd1160f8d47daa6cbb483ab102704",
      "value": " 2.65M/2.65M [00:00&lt;00:00, 10.6MB/s]"
     }
    },
    "b0dabea6fb0d4c37a8f565899c967225": {
     "model_module": "@jupyter-widgets/base",
     "model_module_version": "1.2.0",
     "model_name": "LayoutModel",
     "state": {
      "_model_module": "@jupyter-widgets/base",
      "_model_module_version": "1.2.0",
      "_model_name": "LayoutModel",
      "_view_count": null,
      "_view_module": "@jupyter-widgets/base",
      "_view_module_version": "1.2.0",
      "_view_name": "LayoutView",
      "align_content": null,
      "align_items": null,
      "align_self": null,
      "border": null,
      "bottom": null,
      "display": null,
      "flex": null,
      "flex_flow": null,
      "grid_area": null,
      "grid_auto_columns": null,
      "grid_auto_flow": null,
      "grid_auto_rows": null,
      "grid_column": null,
      "grid_gap": null,
      "grid_row": null,
      "grid_template_areas": null,
      "grid_template_columns": null,
      "grid_template_rows": null,
      "height": null,
      "justify_content": null,
      "justify_items": null,
      "left": null,
      "margin": null,
      "max_height": null,
      "max_width": null,
      "min_height": null,
      "min_width": null,
      "object_fit": null,
      "object_position": null,
      "order": null,
      "overflow": null,
      "overflow_x": null,
      "overflow_y": null,
      "padding": null,
      "right": null,
      "top": null,
      "visibility": null,
      "width": null
     }
    },
    "b43fdf742f634e6a88032f7dd5488b38": {
     "model_module": "@jupyter-widgets/controls",
     "model_module_version": "1.5.0",
     "model_name": "HTMLModel",
     "state": {
      "_dom_classes": [],
      "_model_module": "@jupyter-widgets/controls",
      "_model_module_version": "1.5.0",
      "_model_name": "HTMLModel",
      "_view_count": null,
      "_view_module": "@jupyter-widgets/controls",
      "_view_module_version": "1.5.0",
      "_view_name": "HTMLView",
      "description": "",
      "description_tooltip": null,
      "layout": "IPY_MODEL_3b257daefcef43989a9bc24253dca233",
      "placeholder": "​",
      "style": "IPY_MODEL_c06990c2aec74e05b9d1ff0a9e704530",
      "value": "Generating train split: 100%"
     }
    },
    "b82e518429aa41f0a4e7474313ddbc08": {
     "model_module": "@jupyter-widgets/base",
     "model_module_version": "1.2.0",
     "model_name": "LayoutModel",
     "state": {
      "_model_module": "@jupyter-widgets/base",
      "_model_module_version": "1.2.0",
      "_model_name": "LayoutModel",
      "_view_count": null,
      "_view_module": "@jupyter-widgets/base",
      "_view_module_version": "1.2.0",
      "_view_name": "LayoutView",
      "align_content": null,
      "align_items": null,
      "align_self": null,
      "border": null,
      "bottom": null,
      "display": null,
      "flex": null,
      "flex_flow": null,
      "grid_area": null,
      "grid_auto_columns": null,
      "grid_auto_flow": null,
      "grid_auto_rows": null,
      "grid_column": null,
      "grid_gap": null,
      "grid_row": null,
      "grid_template_areas": null,
      "grid_template_columns": null,
      "grid_template_rows": null,
      "height": null,
      "justify_content": null,
      "justify_items": null,
      "left": null,
      "margin": null,
      "max_height": null,
      "max_width": null,
      "min_height": null,
      "min_width": null,
      "object_fit": null,
      "object_position": null,
      "order": null,
      "overflow": null,
      "overflow_x": null,
      "overflow_y": null,
      "padding": null,
      "right": null,
      "top": null,
      "visibility": null,
      "width": null
     }
    },
    "baa79bbb07d74a2d9bd8d08c42282c34": {
     "model_module": "@jupyter-widgets/controls",
     "model_module_version": "1.5.0",
     "model_name": "HBoxModel",
     "state": {
      "_dom_classes": [],
      "_model_module": "@jupyter-widgets/controls",
      "_model_module_version": "1.5.0",
      "_model_name": "HBoxModel",
      "_view_count": null,
      "_view_module": "@jupyter-widgets/controls",
      "_view_module_version": "1.5.0",
      "_view_name": "HBoxView",
      "box_style": "",
      "children": [
       "IPY_MODEL_175f792660ec472d8ba402f1ed06dd7c",
       "IPY_MODEL_66f317caac91435a969b1c5512a35451",
       "IPY_MODEL_aa6ad292685b4e4bb81e9ee97c4fb459"
      ],
      "layout": "IPY_MODEL_57d6c33c5a374fd2acb8f7c882e5c205"
     }
    },
    "bb494309ecfa4b0d81e89949ac792c1c": {
     "model_module": "@jupyter-widgets/controls",
     "model_module_version": "1.5.0",
     "model_name": "FloatProgressModel",
     "state": {
      "_dom_classes": [],
      "_model_module": "@jupyter-widgets/controls",
      "_model_module_version": "1.5.0",
      "_model_name": "FloatProgressModel",
      "_view_count": null,
      "_view_module": "@jupyter-widgets/controls",
      "_view_module_version": "1.5.0",
      "_view_name": "ProgressView",
      "bar_style": "success",
      "description": "",
      "description_tooltip": null,
      "layout": "IPY_MODEL_b82e518429aa41f0a4e7474313ddbc08",
      "max": 4209,
      "min": 0,
      "orientation": "horizontal",
      "style": "IPY_MODEL_4f149d16314740b9a9aada69c2503649",
      "value": 4209
     }
    },
    "bceb1d53bb1f474e9589c326b8927378": {
     "model_module": "@jupyter-widgets/base",
     "model_module_version": "1.2.0",
     "model_name": "LayoutModel",
     "state": {
      "_model_module": "@jupyter-widgets/base",
      "_model_module_version": "1.2.0",
      "_model_name": "LayoutModel",
      "_view_count": null,
      "_view_module": "@jupyter-widgets/base",
      "_view_module_version": "1.2.0",
      "_view_name": "LayoutView",
      "align_content": null,
      "align_items": null,
      "align_self": null,
      "border": null,
      "bottom": null,
      "display": null,
      "flex": null,
      "flex_flow": null,
      "grid_area": null,
      "grid_auto_columns": null,
      "grid_auto_flow": null,
      "grid_auto_rows": null,
      "grid_column": null,
      "grid_gap": null,
      "grid_row": null,
      "grid_template_areas": null,
      "grid_template_columns": null,
      "grid_template_rows": null,
      "height": null,
      "justify_content": null,
      "justify_items": null,
      "left": null,
      "margin": null,
      "max_height": null,
      "max_width": null,
      "min_height": null,
      "min_width": null,
      "object_fit": null,
      "object_position": null,
      "order": null,
      "overflow": null,
      "overflow_x": null,
      "overflow_y": null,
      "padding": null,
      "right": null,
      "top": null,
      "visibility": null,
      "width": null
     }
    },
    "c06990c2aec74e05b9d1ff0a9e704530": {
     "model_module": "@jupyter-widgets/controls",
     "model_module_version": "1.5.0",
     "model_name": "DescriptionStyleModel",
     "state": {
      "_model_module": "@jupyter-widgets/controls",
      "_model_module_version": "1.5.0",
      "_model_name": "DescriptionStyleModel",
      "_view_count": null,
      "_view_module": "@jupyter-widgets/base",
      "_view_module_version": "1.2.0",
      "_view_name": "StyleView",
      "description_width": ""
     }
    },
    "c621a370b8254ce387480000deb86d7f": {
     "model_module": "@jupyter-widgets/base",
     "model_module_version": "1.2.0",
     "model_name": "LayoutModel",
     "state": {
      "_model_module": "@jupyter-widgets/base",
      "_model_module_version": "1.2.0",
      "_model_name": "LayoutModel",
      "_view_count": null,
      "_view_module": "@jupyter-widgets/base",
      "_view_module_version": "1.2.0",
      "_view_name": "LayoutView",
      "align_content": null,
      "align_items": null,
      "align_self": null,
      "border": null,
      "bottom": null,
      "display": null,
      "flex": null,
      "flex_flow": null,
      "grid_area": null,
      "grid_auto_columns": null,
      "grid_auto_flow": null,
      "grid_auto_rows": null,
      "grid_column": null,
      "grid_gap": null,
      "grid_row": null,
      "grid_template_areas": null,
      "grid_template_columns": null,
      "grid_template_rows": null,
      "height": null,
      "justify_content": null,
      "justify_items": null,
      "left": null,
      "margin": null,
      "max_height": null,
      "max_width": null,
      "min_height": null,
      "min_width": null,
      "object_fit": null,
      "object_position": null,
      "order": null,
      "overflow": null,
      "overflow_x": null,
      "overflow_y": null,
      "padding": null,
      "right": null,
      "top": null,
      "visibility": null,
      "width": null
     }
    },
    "d966411ba5f547a08c880b53a85d7856": {
     "model_module": "@jupyter-widgets/controls",
     "model_module_version": "1.5.0",
     "model_name": "HTMLModel",
     "state": {
      "_dom_classes": [],
      "_model_module": "@jupyter-widgets/controls",
      "_model_module_version": "1.5.0",
      "_model_name": "HTMLModel",
      "_view_count": null,
      "_view_module": "@jupyter-widgets/controls",
      "_view_module_version": "1.5.0",
      "_view_name": "HTMLView",
      "description": "",
      "description_tooltip": null,
      "layout": "IPY_MODEL_040c4b29c91e450286b576433f5d8f8e",
      "placeholder": "​",
      "style": "IPY_MODEL_21fbfdab3ff04b3b88d1d7a8bf691b21",
      "value": "README.md: 100%"
     }
    },
    "d96fcacd75b44002a5e088cc85aa0810": {
     "model_module": "@jupyter-widgets/controls",
     "model_module_version": "1.5.0",
     "model_name": "HBoxModel",
     "state": {
      "_dom_classes": [],
      "_model_module": "@jupyter-widgets/controls",
      "_model_module_version": "1.5.0",
      "_model_name": "HBoxModel",
      "_view_count": null,
      "_view_module": "@jupyter-widgets/controls",
      "_view_module_version": "1.5.0",
      "_view_name": "HBoxView",
      "box_style": "",
      "children": [
       "IPY_MODEL_d966411ba5f547a08c880b53a85d7856",
       "IPY_MODEL_bb494309ecfa4b0d81e89949ac792c1c",
       "IPY_MODEL_df92152792544c8d91c258158076a9ac"
      ],
      "layout": "IPY_MODEL_5f651274ae5f45d0bb743bb7c5a55800"
     }
    },
    "df92152792544c8d91c258158076a9ac": {
     "model_module": "@jupyter-widgets/controls",
     "model_module_version": "1.5.0",
     "model_name": "HTMLModel",
     "state": {
      "_dom_classes": [],
      "_model_module": "@jupyter-widgets/controls",
      "_model_module_version": "1.5.0",
      "_model_name": "HTMLModel",
      "_view_count": null,
      "_view_module": "@jupyter-widgets/controls",
      "_view_module_version": "1.5.0",
      "_view_name": "HTMLView",
      "description": "",
      "description_tooltip": null,
      "layout": "IPY_MODEL_387ad5d951ca4ae1acee98b7bd3936eb",
      "placeholder": "​",
      "style": "IPY_MODEL_36a99b2bfbf74d70b377b44b9e55161c",
      "value": " 4.21k/4.21k [00:00&lt;00:00, 127kB/s]"
     }
    },
    "f39497d829114ee78d90da05e9c2e5f3": {
     "model_module": "@jupyter-widgets/base",
     "model_module_version": "1.2.0",
     "model_name": "LayoutModel",
     "state": {
      "_model_module": "@jupyter-widgets/base",
      "_model_module_version": "1.2.0",
      "_model_name": "LayoutModel",
      "_view_count": null,
      "_view_module": "@jupyter-widgets/base",
      "_view_module_version": "1.2.0",
      "_view_name": "LayoutView",
      "align_content": null,
      "align_items": null,
      "align_self": null,
      "border": null,
      "bottom": null,
      "display": null,
      "flex": null,
      "flex_flow": null,
      "grid_area": null,
      "grid_auto_columns": null,
      "grid_auto_flow": null,
      "grid_auto_rows": null,
      "grid_column": null,
      "grid_gap": null,
      "grid_row": null,
      "grid_template_areas": null,
      "grid_template_columns": null,
      "grid_template_rows": null,
      "height": null,
      "justify_content": null,
      "justify_items": null,
      "left": null,
      "margin": null,
      "max_height": null,
      "max_width": null,
      "min_height": null,
      "min_width": null,
      "object_fit": null,
      "object_position": null,
      "order": null,
      "overflow": null,
      "overflow_x": null,
      "overflow_y": null,
      "padding": null,
      "right": null,
      "top": null,
      "visibility": null,
      "width": null
     }
    }
   }
  }
 },
 "nbformat": 4,
 "nbformat_minor": 4
}
